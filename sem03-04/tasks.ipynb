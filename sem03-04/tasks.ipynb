{
 "cells": [
  {
   "cell_type": "markdown",
   "id": "a129bda0",
   "metadata": {},
   "source": [
    "# Операторы"
   ]
  },
  {
   "cell_type": "markdown",
   "id": "ffcf4cb4",
   "metadata": {},
   "source": [
    "Реализуйте функцию, принимающую оператор и два числа. Нужно применить переданную операцию к двум переданным числам."
   ]
  },
  {
   "cell_type": "code",
   "execution_count": null,
   "id": "25126600",
   "metadata": {},
   "outputs": [],
   "source": [
    "def basic_op(operator: str, value1: int, value2: int) -> float: ...\n",
    "\n",
    "\n",
    "assert basic_op(\"+\", 5, 3) == 8\n",
    "assert basic_op(\"-\", 5, 3) == 2\n",
    "assert basic_op(\"*\", 5, 3) == 15\n",
    "assert basic_op(\"/\", 5, 2) == 2.5\n",
    "\n",
    "assert basic_op(\"+\", -5, -3) == -8\n",
    "assert basic_op(\"-\", -5, -3) == -2\n",
    "assert basic_op(\"*\", -5, 3) == -15\n",
    "assert basic_op(\"/\", 10, 4) == 2.5\n",
    "\n",
    "assert basic_op(\"+\", 0, 0) == 0\n",
    "assert basic_op(\"*\", 5, 0) == 0\n",
    "assert basic_op(\"-\", 0, 5) == -5"
   ]
  },
  {
   "cell_type": "markdown",
   "id": "74d4133e",
   "metadata": {},
   "source": [
    "# Анализируем"
   ]
  },
  {
   "cell_type": "markdown",
   "id": "85f25b91",
   "metadata": {},
   "source": [
    "Обработайте текст Дзена питона:\n",
    "- Подсчитайте сколько раз входит в текст каждый символ в нем.\n",
    "\n",
    "Игнорируйте регистр букв и небуквенные символы."
   ]
  },
  {
   "cell_type": "code",
   "execution_count": null,
   "id": "4de14618",
   "metadata": {},
   "outputs": [],
   "source": [
    "import this\n",
    "\n",
    "\n",
    "def zen_symbols_counter() -> dict[str, int]:\n",
    "    print(this.s)  # Используйте this.s как текст, который нужно обработать.\n",
    "\n",
    "\n",
    "result = zen_symbols_counter()\n",
    "\n",
    "assert max(result.values()) == 90\n",
    "assert min(result.values()) == 1\n",
    "assert (\"r\", 90) in result.items()\n",
    "assert (\"g\", 76) in result.items()"
   ]
  },
  {
   "cell_type": "markdown",
   "id": "de0c2cdc",
   "metadata": {},
   "source": [
    "# Слияние"
   ]
  },
  {
   "cell_type": "markdown",
   "id": "fac38d3b",
   "metadata": {},
   "source": [
    "Реализуйте функцию, которая объединяет словари. Если ключи присутствуют в обоих словарях, то суммируйте значения по ним.\n",
    "\n",
    "**Подсказка**: словари можно сливать при помощи `|`.\n",
    "\n",
    "```python\n",
    "{1: 1} | {2: 2} = {1: 1, 2: 2}\n",
    "```"
   ]
  },
  {
   "cell_type": "code",
   "execution_count": null,
   "id": "883f0c4f",
   "metadata": {},
   "outputs": [],
   "source": [
    "def merge_dicts(d1: dict[str, int], d2: dict[str, int]) -> dict[str, int]: ...\n",
    "\n",
    "\n",
    "assert merge_dicts({\"a\": 1}, {\"a\": 2}) == {\"a\": 3}\n",
    "assert merge_dicts({\"a\": 1, \"b\": 3, \"c\": 4}, {\"a\": 2}) == {\"a\": 3, \"b\": 3, \"c\": 4}\n",
    "assert merge_dicts({}, {}) == {}\n",
    "assert merge_dicts({}, {\"a\": 1, \"b\": 3, \"c\": 4}) == {\"a\": 1, \"b\": 3, \"c\": 4}"
   ]
  },
  {
   "cell_type": "markdown",
   "id": "92985b76",
   "metadata": {},
   "source": [
    "# Слияние 2"
   ]
  },
  {
   "cell_type": "markdown",
   "id": "85ff27be",
   "metadata": {},
   "source": [
    "Реализуйте функцию, которая объединяет словари. Если ключи присутствуют в обоих словарях, то:\n",
    "- числа суммируются;\n",
    "- числа в списках суммируются, если длины списков разные, то суммируем то что можем, а остальное записываем как есть;\n",
    "- из строк выбираем меньшую по длине;\n",
    "- если типы разные, то оставляй значение из первого словаря.\n",
    "\n",
    "**Подсказка**: Проверять каким типом является объект можно при помощи `match`."
   ]
  },
  {
   "cell_type": "code",
   "execution_count": null,
   "id": "0efb04ce",
   "metadata": {},
   "outputs": [],
   "source": [
    "PossibleType = int | list | str\n",
    "\n",
    "\n",
    "def merge_dicts(\n",
    "    d1: dict[str, PossibleType], d2: dict[str, PossibleType]\n",
    ") -> dict[str, PossibleType]: ...\n",
    "\n",
    "\n",
    "assert merge_dicts({\"a\": 1}, {\"b\": 1}) == {\"a\": 1, \"b\": 1}\n",
    "assert merge_dicts({\"a\": 1}, {\"a\": 1}) == {\"a\": 2}\n",
    "assert merge_dicts({\"a\": \"a\"}, {\"a\": \"b\"}) == {\"a\": \"a\"}\n",
    "assert merge_dicts({}, {}) == {}\n",
    "assert merge_dicts({\"a\": [1, 2, 3]}, {\"a\": [1, 2, 3]}) == {\"a\": [2, 4, 6]}\n",
    "assert merge_dicts({\"a\": [1, 2, 3]}, {\"a\": [1, 2, 3, 7], \"b\": [3, 2]}) == {\n",
    "    \"a\": [2, 4, 6, 7],\n",
    "    \"b\": [3, 2],\n",
    "}\n",
    "assert merge_dicts({\"a\": 1}, {\"a\": \"abc\"}) == {\"a\": 1}\n",
    "assert merge_dicts(\n",
    "    {\"a\": 1, \"b\": \"abc\", \"c\": [1, 2, -1], \"d\": {1: 1}},\n",
    "    {\"a\": -1, \"b\": \"bbc\", \"c\": [1, 2, -1], \"d\": {}},\n",
    ") == {\"a\": 0, \"b\": \"abc\", \"c\": [2, 4, -2], \"d\": {1: 1}}"
   ]
  },
  {
   "cell_type": "markdown",
   "id": "ba2143b4",
   "metadata": {},
   "source": [
    "# Слияние 3"
   ]
  },
  {
   "cell_type": "markdown",
   "id": "c622b2ab",
   "metadata": {},
   "source": [
    "Теперь давайте обработаем вложенные словари по тем же принципам.\n",
    "\n",
    "**Подсказка**: Используйте **рекурсию**."
   ]
  },
  {
   "cell_type": "markdown",
   "id": "c11cd017",
   "metadata": {},
   "source": [
    "То есть должно заработать следующее:"
   ]
  },
  {
   "cell_type": "code",
   "execution_count": null,
   "id": "084d6b4b",
   "metadata": {},
   "outputs": [],
   "source": [
    "assert merge_dicts({\"a\": {\"b\": 1}}, {\"a\": {\"b\": 3}}) == {\"a\": {\"b\": 4}}"
   ]
  },
  {
   "cell_type": "code",
   "execution_count": null,
   "id": "33d68803",
   "metadata": {},
   "outputs": [],
   "source": [
    "PossibleType = int | list | dict | str\n",
    "\n",
    "\n",
    "def merge_dicts(\n",
    "    d1: dict[str, PossibleType], d2: dict[str, PossibleType]\n",
    ") -> dict[str, PossibleType]: ...\n",
    "\n",
    "\n",
    "assert merge_dicts({\"a\": 1}, {\"b\": 1}) == {\"a\": 1, \"b\": 1}\n",
    "assert merge_dicts({\"a\": 1}, {\"a\": 1}) == {\"a\": 2}\n",
    "assert merge_dicts({\"a\": \"a\"}, {\"a\": \"b\"}) == {\"a\": \"a\"}\n",
    "assert merge_dicts({}, {}) == {}\n",
    "assert merge_dicts({\"a\": {\"b\": 1}}, {\"a\": {\"b\": 3}}) == {\"a\": {\"b\": 4}}\n",
    "assert merge_dicts({\"a\": [1, 2, 3]}, {\"a\": [1, 2, 3]}) == {\"a\": [2, 4, 6]}\n",
    "assert merge_dicts({\"a\": 1}, {\"a\": \"abc\"}) == {\"a\": 1}\n",
    "\n",
    "assert merge_dicts(\n",
    "    {\"a\": 1, \"b\": \"abc\", \"c\": [1, 2, -1], \"d\": {1: 1}},\n",
    "    {\"a\": -1, \"b\": \"bbc\", \"c\": [1, 2, -1], \"d\": {}},\n",
    ") == {\"a\": 0, \"b\": \"abc\", \"c\": [2, 4, -2], \"d\": {1: 1}}\n",
    "\n",
    "assert merge_dicts(\n",
    "    {\"a\": 1, \"b\": {\"inner_a\": 32, \"inner_b\": \"str123\", \"inner_c\": {\"elem\": 1}}},\n",
    "    {\"b\": {\"inner_b\": \"str\", \"inner_c\": {\"elem\": 1}}, \"c\": {}},\n",
    ") == {\n",
    "    \"a\": 1,\n",
    "    \"b\": {\"inner_a\": 32, \"inner_b\": \"str\", \"inner_c\": {\"elem\": 2}},\n",
    "    \"c\": {},\n",
    "}"
   ]
  },
  {
   "cell_type": "markdown",
   "id": "083353b2",
   "metadata": {},
   "source": [
    "# Разворот 1"
   ]
  },
  {
   "cell_type": "markdown",
   "id": "098ac7e3",
   "metadata": {},
   "source": [
    "Теперь надо научиться разворачивать словари. Повторяющиеся ключи игнорируются, оставляя последнюю пару.\n",
    "\n",
    "**Задача**: поменять местами ключи и значения."
   ]
  },
  {
   "cell_type": "code",
   "execution_count": null,
   "id": "8b8db207",
   "metadata": {},
   "outputs": [],
   "source": [
    "from typing import Any\n",
    "\n",
    "\n",
    "def inverse_dict(d: dict[str, Any]) -> dict[Any, str]: ...\n",
    "\n",
    "\n",
    "assert inverse_dict({}) == {}\n",
    "assert inverse_dict({\"a\": 1, \"b\": 1.0, \"c\": True}) == {1: \"c\"}\n",
    "assert inverse_dict({\"a\": 1, \"b\": 2}) == {1: \"a\", 2: \"b\"}\n",
    "assert inverse_dict({\"a\": {}}) == {}"
   ]
  },
  {
   "cell_type": "markdown",
   "id": "0d7f761e",
   "metadata": {},
   "source": [
    "Если ваше решение не падает на этом тесте, то вы большой/ая молодец!"
   ]
  },
  {
   "cell_type": "code",
   "execution_count": null,
   "id": "8fc6a3d6",
   "metadata": {},
   "outputs": [],
   "source": [
    "assert inverse_dict({\"a\": ([])}) == {}"
   ]
  },
  {
   "cell_type": "markdown",
   "id": "adf0ef80",
   "metadata": {},
   "source": [
    "# Разворот 2"
   ]
  },
  {
   "cell_type": "markdown",
   "id": "edda9123",
   "metadata": {},
   "source": [
    "Тут нужно доработать прошлую задачу так, чтобы мы могли переворачивать словари с вложенными словарями в значениях. В качестве примера посмотрите на тесткейс."
   ]
  },
  {
   "cell_type": "code",
   "execution_count": null,
   "id": "e940a2a6",
   "metadata": {},
   "outputs": [],
   "source": [
    "from typing import Any\n",
    "\n",
    "\n",
    "def inverse_dict(d: dict[str, Any]) -> dict[Any, str]: ...\n",
    "\n",
    "\n",
    "assert inverse_dict({}) == {}\n",
    "assert inverse_dict({\"a\": 1, \"b\": 1.0, \"c\": True}) == {1: \"c\"}\n",
    "assert inverse_dict({\"a\": 1, \"b\": 2}) == {1: \"a\", 2: \"b\"}\n",
    "assert inverse_dict({\"a\": {}}) == {}\n",
    "assert inverse_dict({\"a\": 1, \"b\": {\"c\": 2, \"d\": 3, \"e\": {\"f\": 4}}}) == {\n",
    "    1: \"a\",\n",
    "    2: \"c\",\n",
    "    3: \"d\",\n",
    "    4: \"f\",\n",
    "}"
   ]
  },
  {
   "cell_type": "markdown",
   "id": "f3bec4c0",
   "metadata": {},
   "source": [
    "# Рекомендательная система"
   ]
  },
  {
   "cell_type": "markdown",
   "id": "0100501c",
   "metadata": {},
   "source": [
    "Давайте представим, что мы занимаемся машинным обучением, а именно - рекомендательными системами.\n",
    "\n",
    "Вам предстоит построить систему рекомендаций на основе метрики Жаккара.\n",
    "\n",
    "Метрика Жаккара (коэффициент Жаккара) — это мера сходства между двумя множествами. Для множеств $A$ и $B$ коэффициент Жаккара определяется как отношение мощности пересечения к мощности объединения множеств:\n",
    "\n",
    "$$J(A, B) = \\frac{|A \\cap B|}{|A \\cup B|}$$\n",
    "\n",
    "- Значение изменяется от 0 до 1: $0 \\leq J(A, B) \\leq 1$\n",
    "- $J(A, B) = 1$ если множества идентичны\n",
    "- $J(A, B) = 0$ если множества не имеют общих элементов\n",
    "- Метрика не учитывает порядок элементов\n",
    "\n",
    "**Задача**: построить функцию, которая среди пула пользователей ищет самых похожих пользователей относительно того, которого передали. Искать такая функция должна, как вы поняли, через коэффициент Жаккара\n",
    "\n",
    "На вход подается:\n",
    "- Словарь, в котором пары ключ-значения обозначают пользователя и его интересы соответственно\n",
    "- Указание, для какого пользователя ищем схожих\n",
    "- Максимальное количество пользователей, которое должна вернуть функция\n",
    "\n",
    "Схожие пользователи должны быть возвращены в виде списка кортежей (ключ пользователя, коэффициент Жаккара) в порядке убывания коэффициента Жаккара. Если коэффициенты у разных пользователей одинаковы, то вернуть в лексикографическом порядке ключей\n",
    "\n",
    "Если среди пользователей нет такого, для которого мы ищем схожих, то вернуть надо пустой список\n",
    "\n",
    "Коэффициент Жаккара при выводе необходимо округлять до двух знаков после запятой"
   ]
  },
  {
   "cell_type": "code",
   "execution_count": null,
   "id": "b0d04df9",
   "metadata": {},
   "outputs": [],
   "source": [
    "def find_similar_users(\n",
    "    user_interests: dict[str, set], current_user: str, n: int = 3\n",
    ") -> list[tuple[str, float]]: ...\n",
    "\n",
    "\n",
    "assert find_similar_users(\n",
    "    user_interests={\n",
    "        \"a\": {1, 2, 3},\n",
    "        \"b\": {0, 1},\n",
    "    },\n",
    "    current_user=\"a\",\n",
    "    n=2,\n",
    ") == [(\"b\", 0.25)]\n",
    "\n",
    "assert (\n",
    "    find_similar_users(\n",
    "        user_interests={\n",
    "            \"a\": {1, 2, 3},\n",
    "        },\n",
    "        current_user=\"a\",\n",
    "        n=2,\n",
    "    )\n",
    "    == []\n",
    ")\n",
    "\n",
    "assert (\n",
    "    find_similar_users(\n",
    "        user_interests={\n",
    "            \"a\": {1, 2, 3},\n",
    "        },\n",
    "        current_user=\"b\",\n",
    "    )\n",
    "    == []\n",
    ")\n",
    "\n",
    "assert (\n",
    "    find_similar_users(\n",
    "        user_interests={},\n",
    "        current_user=\"a\",\n",
    "        n=2,\n",
    "    )\n",
    "    == []\n",
    ")\n",
    "\n",
    "assert find_similar_users(\n",
    "    user_interests={\n",
    "        \"a\": {1, 2, 3},\n",
    "        \"b\": {0, 1},\n",
    "        \"c\": {5, 6},\n",
    "        \"d\": {1, 3, 4, 5, 6},\n",
    "        \"e\": {1, 2, 3},\n",
    "    },\n",
    "    current_user=\"a\",\n",
    "    n=2,\n",
    ") == [(\"e\", 1.0), (\"d\", 0.33)]\n",
    "\n",
    "assert find_similar_users(\n",
    "    user_interests={\n",
    "        \"a\": {1, 2, 3},\n",
    "        \"b\": {0, 1},\n",
    "        \"c\": {5, 6},\n",
    "        \"d\": {1, 3, 4, 5, 6},\n",
    "        \"e\": {1, 2, 3},\n",
    "    },\n",
    "    current_user=\"a\",\n",
    ") == [(\"e\", 1.0), (\"d\", 0.33), (\"b\", 0.25)]"
   ]
  }
 ],
 "metadata": {
  "kernelspec": {
   "display_name": ".venv",
   "language": "python",
   "name": "python3"
  },
  "language_info": {
   "codemirror_mode": {
    "name": "ipython",
    "version": 3
   },
   "file_extension": ".py",
   "mimetype": "text/x-python",
   "name": "python",
   "nbconvert_exporter": "python",
   "pygments_lexer": "ipython3",
   "version": "3.13.3"
  }
 },
 "nbformat": 4,
 "nbformat_minor": 5
}
