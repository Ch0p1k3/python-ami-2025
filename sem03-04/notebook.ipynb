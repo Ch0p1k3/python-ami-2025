{
 "cells": [
  {
   "cell_type": "markdown",
   "metadata": {},
   "source": [
    "## Тип range"
   ]
  },
  {
   "cell_type": "code",
   "execution_count": null,
   "metadata": {},
   "outputs": [],
   "source": [
    "range(1, 4, 3)"
   ]
  },
  {
   "cell_type": "code",
   "execution_count": null,
   "metadata": {},
   "outputs": [],
   "source": [
    "type(range(1, 4, 3))"
   ]
  },
  {
   "cell_type": "code",
   "execution_count": null,
   "metadata": {},
   "outputs": [],
   "source": [
    "print(list(range(1, 4, 3)))"
   ]
  },
  {
   "cell_type": "code",
   "execution_count": null,
   "metadata": {},
   "outputs": [],
   "source": [
    "print, reversed, zip, enumerate"
   ]
  },
  {
   "cell_type": "code",
   "execution_count": null,
   "metadata": {},
   "outputs": [],
   "source": [
    "min, max, sum"
   ]
  },
  {
   "cell_type": "code",
   "execution_count": null,
   "metadata": {},
   "outputs": [],
   "source": [
    "max([])"
   ]
  },
  {
   "cell_type": "markdown",
   "metadata": {},
   "source": [
    "Антипатерн: не использовать встроенные функции, а писать свои велосипеды"
   ]
  },
  {
   "cell_type": "code",
   "execution_count": null,
   "metadata": {},
   "outputs": [],
   "source": [
    "a = [1, 2, 3]\n",
    "list(reversed(a)), a[::-1]"
   ]
  },
  {
   "cell_type": "markdown",
   "metadata": {},
   "source": [
    "Антипаттерн: [::-1] плохо читается. Лучше использовать reversed"
   ]
  },
  {
   "cell_type": "markdown",
   "metadata": {},
   "source": [
    "# Циклы и условия, ввод-вывод с файла"
   ]
  },
  {
   "cell_type": "markdown",
   "metadata": {},
   "source": [
    "## Условия"
   ]
  },
  {
   "cell_type": "code",
   "execution_count": null,
   "metadata": {},
   "outputs": [],
   "source": [
    "x = 100\n",
    "\n",
    "if (x % 10 == 0):\n",
    "    print(x, \"Делится на 10\")\n",
    "elif (x % 5) == 0:\n",
    "    print(x, \"Делится на 5\")\n",
    "else:\n",
    "    print(x, \"Не делится на 5\")"
   ]
  },
  {
   "cell_type": "markdown",
   "metadata": {},
   "source": [
    "<details>\n",
    "  <summary> Что не так с кодом? </summary>\n",
    "   Антипатерн: ставить лишние скобки\n",
    "</details>"
   ]
  },
  {
   "cell_type": "code",
   "execution_count": null,
   "metadata": {},
   "outputs": [],
   "source": [
    "# Взято из лекции\n",
    "\n",
    "a = int(input(\"Введите число:\"))\n",
    "\n",
    "if (a % 3) == 0:\n",
    "    a *= 2\n",
    "    a += 1\n",
    "else:\n",
    "    if (a % 5) == 0:\n",
    "        a -= 2\n",
    "    else:\n",
    "        if (a % 7) == 0:\n",
    "            a %= 15\n",
    "print(a)"
   ]
  },
  {
   "cell_type": "code",
   "execution_count": null,
   "metadata": {},
   "outputs": [],
   "source": [
    "class FileManager:  # <- что здесь не так\n",
    "    def __init__(self, filename, mode):\n",
    "        self.filename = filename\n",
    "        self.mode = mode\n",
    "        self.file = None\n",
    "\n",
    "    def __enter__(self):\n",
    "        self.file = open(self.filename, self.mode)\n",
    "        return self.file\n",
    "\n",
    "    def __exit__(self, exc_type, exc_value, exc_traceback):\n",
    "        self.file.close()\n",
    "\n",
    "# loading a file\n",
    "with FileManager('test.txt', 'w') as f:\n",
    "    f.write('Test')\n",
    "\n",
    "print(f.closed)"
   ]
  },
  {
   "cell_type": "markdown",
   "metadata": {},
   "source": [
    "## Тернарный оператор"
   ]
  },
  {
   "cell_type": "code",
   "execution_count": null,
   "metadata": {},
   "outputs": [],
   "source": [
    "x = 100\n",
    "# x = 101\n",
    "\n",
    "answer = 'Четное' if x % 2 == 0 else 'Нечетное'\n",
    "answer"
   ]
  },
  {
   "cell_type": "code",
   "execution_count": null,
   "metadata": {},
   "outputs": [],
   "source": [
    "x = 100\n",
    "# x = -1\n",
    "\n",
    "answer = x % 2 if x > 0 else 'Значение отрицательное!'\n",
    "answer"
   ]
  },
  {
   "cell_type": "markdown",
   "metadata": {},
   "source": [
    "Антипатерны:\n",
    "- использовать тренарный оператор для длинных выражений\n",
    "- возвращать разные типы в зависимости от условия"
   ]
  },
  {
   "cell_type": "markdown",
   "metadata": {},
   "source": [
    "## Объекты, ссылки, типы, значения, операции"
   ]
  },
  {
   "cell_type": "code",
   "execution_count": null,
   "metadata": {},
   "outputs": [],
   "source": [
    "# All data in a Python program is represented by objects or by relations between objects\n",
    "# https://docs.python.org/3/reference/datamodel.html\n",
    "\n",
    "a = 1       # `имя` = `значение`. Имени `a` присваивается ссылка на объект со значением 1\n",
    "A = id(a)   # `id`. Ссылка, где лежит объект в памяти\n",
    "t = type(a) # `тип`. Какими свойствами обладает\n",
    "a, A, t"
   ]
  },
  {
   "cell_type": "markdown",
   "metadata": {},
   "source": [
    "## Мутабельность/иммутабельность объектов"
   ]
  },
  {
   "cell_type": "code",
   "execution_count": null,
   "metadata": {},
   "outputs": [],
   "source": [
    "# Иммутабельные - не меняют значение по ссылке\n",
    "# Примеры: int, float, str, tuple, frozenset\n",
    "\n",
    "a = 1\n",
    "b = a\n",
    "a += 2\n",
    "a, b\n",
    "\n",
    "# Мутабельные - меняют значение по ссылке\n",
    "# Примеры: list, set, dict\n",
    "\n",
    "a = [1]\n",
    "b = a\n",
    "a += [2]\n",
    "a, b"
   ]
  },
  {
   "cell_type": "markdown",
   "metadata": {},
   "source": [
    "## Оператор is"
   ]
  },
  {
   "cell_type": "code",
   "execution_count": null,
   "metadata": {},
   "outputs": [],
   "source": [
    "x = [1, 2, 3]\n",
    "y = x\n",
    "x == y, x is y"
   ]
  },
  {
   "cell_type": "code",
   "execution_count": null,
   "metadata": {},
   "outputs": [],
   "source": [
    "x = [1, 2, 3]\n",
    "x == y, x is y"
   ]
  },
  {
   "cell_type": "code",
   "execution_count": null,
   "metadata": {},
   "outputs": [],
   "source": [
    "x = [1, 2, 3]\n",
    "y = x\n",
    "x == y, x is y, id(x), id(y), id(x) == id(y)"
   ]
  },
  {
   "cell_type": "code",
   "execution_count": null,
   "metadata": {},
   "outputs": [],
   "source": [
    "x = [1, 2, 3]\n",
    "x == y, x is y, id(x), id(y), id(x) == id(y)"
   ]
  },
  {
   "cell_type": "code",
   "execution_count": null,
   "metadata": {},
   "outputs": [],
   "source": [
    "# value = None\n",
    "# value = \"Football\"\n",
    "value = \"\"\n",
    "\n",
    "if value != None:  # работает для базовых типов, но\n",
    "                   # нестандартные объекты могут быть равны None,\n",
    "                   # не являясь None\n",
    "    print(f'1: {len(value)}')\n",
    "\n",
    "if value:  # пустой список тоже приводится к False\n",
    "    print(f'2: {len(value)}')\n",
    "\n",
    "# Опытный\n",
    "if value is not None:  # is - проверка на то, что в value лежит\n",
    "                       # тот же самый объект (а не просто равный)\n",
    "    print(f'3: {len(value)}')"
   ]
  },
  {
   "cell_type": "markdown",
   "metadata": {},
   "source": [
    "## Хехе"
   ]
  },
  {
   "cell_type": "code",
   "execution_count": null,
   "metadata": {},
   "outputs": [],
   "source": [
    "a = 256\n",
    "b = 256\n",
    "a is b, a == b"
   ]
  },
  {
   "cell_type": "code",
   "execution_count": null,
   "metadata": {},
   "outputs": [],
   "source": [
    "a = 257\n",
    "b = 257\n",
    "a is b, a == b"
   ]
  },
  {
   "cell_type": "code",
   "execution_count": null,
   "metadata": {},
   "outputs": [],
   "source": [
    "a = \"Kek\"\n",
    "b = \"Kek\"\n",
    "a is b, a == b"
   ]
  },
  {
   "cell_type": "code",
   "execution_count": null,
   "metadata": {},
   "outputs": [],
   "source": [
    "a = \"Lol kek chebyrek\"\n",
    "b = \"Lol kek chebyrek\"\n",
    "a is b, a == b"
   ]
  },
  {
   "cell_type": "markdown",
   "metadata": {},
   "source": [
    "Для экономии времени и затрат памяти Python предварительно загружает все малые целые числа в диапазоне [-5, 256]. Поэтому, когда объявляется целое число в этом диапазоне, Python просто ссылается на кэшированное целое число и не создает новый объект. (на самом деле еще зависит от реализации интерпретатора)\n",
    "\n",
    "Аналогично происходит и со строками, кешируются маленькие строчки использующие латинские буквы"
   ]
  },
  {
   "cell_type": "markdown",
   "metadata": {},
   "source": [
    "## Проверка контейнера на пустоту"
   ]
  },
  {
   "cell_type": "code",
   "execution_count": null,
   "metadata": {},
   "outputs": [],
   "source": [
    "for empty in ('', [], {}, set()):\n",
    "    if empty:  # ~ if empty is not None and len(empty) != 0\n",
    "        print('Not empty')\n",
    "    else:\n",
    "        print('Empty')"
   ]
  },
  {
   "cell_type": "markdown",
   "metadata": {},
   "source": [
    "## Match"
   ]
  },
  {
   "cell_type": "code",
   "execution_count": null,
   "metadata": {},
   "outputs": [],
   "source": [
    "language = 'russian'\n",
    "# language = 'german'\n",
    "# language = 'kazakh'\n",
    "\n",
    "match language:\n",
    "    case 'russian':\n",
    "        print('Привет')\n",
    "    case 'english':\n",
    "        print('Hello')\n",
    "    case 'german':\n",
    "        print('Hallo')\n",
    "    case _:\n",
    "        print('Unknown language')"
   ]
  },
  {
   "cell_type": "code",
   "execution_count": null,
   "metadata": {},
   "outputs": [],
   "source": [
    "lst = ['🐸', '🐸', '🐸'] # Starts with frog\n",
    "# lst = ['🐸', '🦋'] # Starts with frog and ends with a butterfly\n",
    "# lst = ['🐸', '🦋', '🌼'] # Starts with frog and ends with a flower, with a butterfly in between\n",
    "# lst = None # Not a sequence\n",
    "\n",
    "match lst:\n",
    "    case ['🐸', *_, '🦋', '🌼']: print('Starts with frog and ends with a flower, with a butterfly in between')\n",
    "    case ['🐸', *_, '🦋']: print('Starts with frog and ends with a butterfly')\n",
    "    case [*_, '🦋']: print('Ends with a butterfly')\n",
    "    case ['🐸', *_, '🌼']: print('Starts with frog')\n",
    "    case ['🐸', *_]: print('Starts with frog')\n",
    "    case []: print('An empty sequence')\n",
    "    case [*_]: print('A sequence of things')\n",
    "    case _: print('Not a sequence')"
   ]
  },
  {
   "cell_type": "code",
   "execution_count": null,
   "metadata": {},
   "outputs": [],
   "source": [
    "lst = ['🐸', '🐸', '🐸']\n",
    "lst = ['🐸', '🐸', '🌼']\n",
    "\n",
    "match lst:\n",
    "    case [\"🐸\", *_]: print(f\"Starts with frog and ends with {_}\")\n",
    "    case _: print(\"Not sure\")"
   ]
  },
  {
   "cell_type": "code",
   "execution_count": 22,
   "metadata": {},
   "outputs": [],
   "source": [
    "a = [1, 2, 3]\n",
    "c, *other = a"
   ]
  },
  {
   "cell_type": "code",
   "execution_count": null,
   "metadata": {},
   "outputs": [],
   "source": [
    "c, other"
   ]
  },
  {
   "cell_type": "code",
   "execution_count": null,
   "metadata": {},
   "outputs": [],
   "source": [
    "lst = ['🐸', '🌸']\n",
    "lst = ['🐸', '🌸', '🌸']\n",
    "\n",
    "match lst:\n",
    "    case ['🐸', ('🌹' | '🌸' | '🌺' | '🌻' | '🌼')]: print(f'A frog and a flower')\n",
    "    case _: print('Not sure')"
   ]
  },
  {
   "cell_type": "code",
   "execution_count": null,
   "metadata": {},
   "outputs": [],
   "source": [
    "seq = '🐸'\n",
    "# seq = '🤴'\n",
    "# seq = ['🐸', '🌸']\n",
    "\n",
    "match seq:\n",
    "    case ['🐸', *others]: print(f'A frog and {others}')\n",
    "    case '🐸' | '🤴': print('A frog or a prince?')\n",
    "    case '👸': print('A princess')\n",
    "    case '😘': print('A kiss')\n",
    "    case _: print('Not sure')"
   ]
  },
  {
   "cell_type": "code",
   "execution_count": null,
   "metadata": {},
   "outputs": [],
   "source": [
    "driver = {\n",
    "    \"name\": \"Charles Leclerc\",\n",
    "    \"team\": \"Ferrari\",\n",
    "    \"height\": 179\n",
    "}\n",
    "\n",
    "match driver:\n",
    "    case {'name': name, 'team': team, 'height': height}: print(f'driver with name {name}, team {team}, height {height}')\n",
    "    case {'name': name, 'height': height}: print(f'driver with name {name}, height {height}')\n",
    "    case {'name': name}: print(f'driver with name {name}')\n",
    "    case _: raise ValueError('Invalid request. Missing required fields')"
   ]
  },
  {
   "cell_type": "markdown",
   "metadata": {},
   "source": [
    "Также все можно делать с классами, но пока вы с ними не знакомы :("
   ]
  },
  {
   "cell_type": "markdown",
   "metadata": {},
   "source": [
    "## isinstance"
   ]
  },
  {
   "cell_type": "code",
   "execution_count": null,
   "metadata": {},
   "outputs": [],
   "source": [
    "a = 1\n",
    "isinstance(a, int), isinstance(a, float)"
   ]
  },
  {
   "cell_type": "code",
   "execution_count": null,
   "metadata": {},
   "outputs": [],
   "source": [
    "a = [1, 2, 3]\n",
    "\n",
    "if isinstance(a, list):\n",
    "    print(\"Это же лист!!\")\n",
    "elif isinstance(a, dict):\n",
    "    print(\"Это же словарь!!\")\n",
    "elif isinstance(a, set):\n",
    "    print(\"Это же множество!!\")\n",
    "else:\n",
    "    print(\"Я не знаю что это :(\")"
   ]
  },
  {
   "cell_type": "code",
   "execution_count": null,
   "metadata": {},
   "outputs": [],
   "source": [
    "a = (1, 2, 3)\n",
    "\n",
    "match a:\n",
    "    case list():\n",
    "        tp = \"лист\"\n",
    "    case dict():\n",
    "        tp = \"словарь\"\n",
    "    case tuple():\n",
    "        tp = \"кортеж\"\n",
    "    case _:\n",
    "        tp = \"unknown\"\n",
    "\n",
    "print(f\"Это же {tp}!\")"
   ]
  },
  {
   "cell_type": "code",
   "execution_count": null,
   "metadata": {},
   "outputs": [],
   "source": [
    "a, isinstance(True, object)"
   ]
  },
  {
   "cell_type": "markdown",
   "metadata": {},
   "source": [
    "## Антипатерн связанный с циклами"
   ]
  },
  {
   "cell_type": "code",
   "execution_count": null,
   "metadata": {},
   "outputs": [],
   "source": [
    "data = [0,1,2,3,4,5,6,7,8,9,10]\n",
    "\n",
    "for value in data:\n",
    "    print(value, end=', ')\n",
    "    data.pop(0)"
   ]
  },
  {
   "cell_type": "code",
   "execution_count": null,
   "metadata": {},
   "outputs": [],
   "source": [
    "data = [0,1,2,3,4,5,6,7,8,9,10]\n",
    "\n",
    "while data:\n",
    "    value = data.pop(0)\n",
    "    print(value, end=', ')"
   ]
  },
  {
   "cell_type": "markdown",
   "metadata": {},
   "source": [
    "Антипаттерн: изменять объект, по которому сейчас запущен цикл for"
   ]
  },
  {
   "cell_type": "markdown",
   "metadata": {},
   "source": [
    "## Else в циклах"
   ]
  },
  {
   "cell_type": "markdown",
   "metadata": {},
   "source": [
    "Если цикл не прерывался на break то выполняется блок else"
   ]
  },
  {
   "cell_type": "code",
   "execution_count": null,
   "metadata": {},
   "outputs": [],
   "source": [
    "for line in ['Hello', 'Worldghjgjhghj', 'Library']:\n",
    "    if len(line) > 7:\n",
    "        print(\"Found long line!\")\n",
    "        break\n",
    "else:\n",
    "    print(\"All lines are short\")"
   ]
  },
  {
   "cell_type": "code",
   "execution_count": null,
   "metadata": {},
   "outputs": [],
   "source": [
    "for d in range(1, 5):\n",
    "    print(d)\n",
    "print(d)"
   ]
  },
  {
   "cell_type": "code",
   "execution_count": null,
   "metadata": {},
   "outputs": [],
   "source": [
    "vault = 257\n",
    "while vault > 1:\n",
    "    vault = vault // 2 if vault % 2 == 0 else vault * 3 + 1\n",
    "    if vault == 13:\n",
    "        break\n",
    "else:\n",
    "    print(\"Vault 13 not found!\")"
   ]
  },
  {
   "cell_type": "markdown",
   "metadata": {},
   "source": [
    "## Set"
   ]
  },
  {
   "cell_type": "code",
   "execution_count": null,
   "metadata": {},
   "outputs": [],
   "source": [
    "a = set([1, 2, 3])\n",
    "type(a), bool(a), bool(set())"
   ]
  },
  {
   "cell_type": "code",
   "execution_count": null,
   "metadata": {},
   "outputs": [],
   "source": [
    "a = {1, 2, 3}\n",
    "b = {3, 4, 5}\n",
    "a - b, b - a"
   ]
  },
  {
   "cell_type": "code",
   "execution_count": null,
   "metadata": {},
   "outputs": [],
   "source": [
    "a | b, a & b"
   ]
  },
  {
   "cell_type": "code",
   "execution_count": null,
   "metadata": {},
   "outputs": [],
   "source": [
    "3 in a, 5 not in b"
   ]
  },
  {
   "cell_type": "code",
   "execution_count": null,
   "metadata": {},
   "outputs": [],
   "source": [
    "a = {1}\n",
    "b = a\n",
    "b = b | {1, 4}\n",
    "\n",
    "a, b, a is b"
   ]
  },
  {
   "cell_type": "code",
   "execution_count": null,
   "metadata": {},
   "outputs": [],
   "source": [
    "a = {1}\n",
    "b = a\n",
    "b |= {1, 4}\n",
    "\n",
    "a, b, a is b"
   ]
  },
  {
   "cell_type": "code",
   "execution_count": null,
   "metadata": {},
   "outputs": [],
   "source": [
    "a = [1, 2, 3]\n",
    "b = a\n",
    "b = b + [4]\n",
    "a, b, a is b"
   ]
  },
  {
   "cell_type": "code",
   "execution_count": null,
   "metadata": {},
   "outputs": [],
   "source": [
    "a = [1, 2, 3]\n",
    "b = a\n",
    "b += [4]\n",
    "a, b, a is b"
   ]
  },
  {
   "cell_type": "code",
   "execution_count": null,
   "metadata": {},
   "outputs": [],
   "source": [
    "a = [1, 2, 3]\n",
    "b = a\n",
    "b.append(4)\n",
    "print(id(b))\n",
    "b.append(5)\n",
    "print(id(b))\n",
    "b.append(6)\n",
    "print(id(b))\n",
    "a, b, a is b"
   ]
  },
  {
   "cell_type": "code",
   "execution_count": 69,
   "metadata": {},
   "outputs": [],
   "source": [
    "a = [1, 2, 3]\n",
    "b = a\n",
    "b.extend(e for e in a if e % 2 == 0)\n",
    "a, b, a is b"
   ]
  },
  {
   "cell_type": "code",
   "execution_count": null,
   "metadata": {},
   "outputs": [],
   "source": [
    "a = [1, 2, 3]\n"
   ]
  },
  {
   "cell_type": "code",
   "execution_count": null,
   "metadata": {},
   "outputs": [],
   "source": [
    "a = [1, 2, 3]\n",
    "b = a[:2]\n",
    "b[0] = 4\n",
    "a, b, a is b"
   ]
  },
  {
   "cell_type": "code",
   "execution_count": null,
   "metadata": {},
   "outputs": [],
   "source": [
    "a = [[1, 2], [3, 4]]\n",
    "b = a[:1]\n",
    "print(b)\n",
    "b[0][1] = 5\n",
    "a, b"
   ]
  },
  {
   "cell_type": "markdown",
   "metadata": {},
   "source": [
    "## Frozenset"
   ]
  },
  {
   "cell_type": "code",
   "execution_count": null,
   "metadata": {},
   "outputs": [],
   "source": [
    "a = frozenset([1, 2, 3])\n",
    "b = frozenset([3, 4, 5])\n",
    "type(a), bool(a), bool(frozenset())"
   ]
  },
  {
   "cell_type": "code",
   "execution_count": 2,
   "metadata": {},
   "outputs": [],
   "source": [
    "d = {frozenset(): 3}"
   ]
  },
  {
   "cell_type": "code",
   "execution_count": null,
   "metadata": {},
   "outputs": [],
   "source": [
    "a - b, b - a, a | b, a & b, 3 in a, 5 not in b"
   ]
  },
  {
   "cell_type": "markdown",
   "metadata": {},
   "source": [
    "## Dict"
   ]
  },
  {
   "cell_type": "code",
   "execution_count": null,
   "metadata": {},
   "outputs": [],
   "source": [
    "a = {'a': 1, 'b': 2, 'c': 3, 'd_a': 4}\n",
    "b = dict(a=1, b=2, c=3, d_a=5)\n",
    "a, b, a == b"
   ]
  },
  {
   "cell_type": "code",
   "execution_count": null,
   "metadata": {},
   "outputs": [],
   "source": [
    "type({})"
   ]
  },
  {
   "cell_type": "code",
   "execution_count": null,
   "metadata": {},
   "outputs": [],
   "source": [
    "a['a']"
   ]
  },
  {
   "cell_type": "code",
   "execution_count": null,
   "metadata": {},
   "outputs": [],
   "source": [
    "a['d']"
   ]
  },
  {
   "cell_type": "code",
   "execution_count": null,
   "metadata": {},
   "outputs": [],
   "source": [
    "a.get('d'), a.get('a'), a.get('d', 4)"
   ]
  },
  {
   "cell_type": "code",
   "execution_count": null,
   "metadata": {},
   "outputs": [],
   "source": [
    "a"
   ]
  },
  {
   "cell_type": "code",
   "execution_count": 10,
   "metadata": {},
   "outputs": [],
   "source": [
    "a = {1: 3, 4: 5}\n",
    "a[6] = 3"
   ]
  },
  {
   "cell_type": "code",
   "execution_count": null,
   "metadata": {},
   "outputs": [],
   "source": [
    "a"
   ]
  },
  {
   "cell_type": "code",
   "execution_count": 13,
   "metadata": {},
   "outputs": [],
   "source": [
    "a = {\"as\": 3, \"er\": 5}\n",
    "a\n",
    "a[\"qw\"] = 3"
   ]
  },
  {
   "cell_type": "code",
   "execution_count": null,
   "metadata": {},
   "outputs": [],
   "source": [
    "a"
   ]
  },
  {
   "cell_type": "code",
   "execution_count": 15,
   "metadata": {},
   "outputs": [],
   "source": [
    "a[\"as\"] = 2"
   ]
  },
  {
   "cell_type": "code",
   "execution_count": null,
   "metadata": {},
   "outputs": [],
   "source": [
    "a"
   ]
  },
  {
   "cell_type": "code",
   "execution_count": null,
   "metadata": {},
   "outputs": [],
   "source": [
    "a['d']"
   ]
  },
  {
   "cell_type": "code",
   "execution_count": null,
   "metadata": {},
   "outputs": [],
   "source": [
    "a"
   ]
  },
  {
   "cell_type": "code",
   "execution_count": null,
   "metadata": {},
   "outputs": [],
   "source": [
    "a.update({\"as\": 3, \"b\": 2})\n",
    "a"
   ]
  },
  {
   "cell_type": "code",
   "execution_count": null,
   "metadata": {},
   "outputs": [],
   "source": [
    "a |= {\"a\": 5, \"b\": 6}\n",
    "a"
   ]
  },
  {
   "cell_type": "code",
   "execution_count": null,
   "metadata": {},
   "outputs": [],
   "source": []
  },
  {
   "cell_type": "markdown",
   "metadata": {},
   "source": [
    "```\n",
    "|=\n",
    "```"
   ]
  },
  {
   "cell_type": "code",
   "execution_count": null,
   "metadata": {},
   "outputs": [],
   "source": [
    "a = {'a': 1, 'b': 2, 'c': 3}\n",
    "b = {'c': 3, 'd': 4, 'e': 5}\n",
    "a | b"
   ]
  },
  {
   "cell_type": "code",
   "execution_count": 16,
   "metadata": {},
   "outputs": [],
   "source": [
    "del a['a']"
   ]
  },
  {
   "cell_type": "code",
   "execution_count": null,
   "metadata": {},
   "outputs": [],
   "source": [
    "a"
   ]
  },
  {
   "cell_type": "code",
   "execution_count": 18,
   "metadata": {},
   "outputs": [],
   "source": [
    "a = {}"
   ]
  },
  {
   "cell_type": "markdown",
   "metadata": {},
   "source": [
    "## Ключ в dict"
   ]
  },
  {
   "cell_type": "code",
   "execution_count": null,
   "metadata": {},
   "outputs": [],
   "source": [
    "d = {{1, 2}: 3}"
   ]
  },
  {
   "cell_type": "code",
   "execution_count": 21,
   "metadata": {},
   "outputs": [],
   "source": [
    "d = {(1, 2): 3}"
   ]
  },
  {
   "cell_type": "code",
   "execution_count": null,
   "metadata": {},
   "outputs": [],
   "source": [
    "d = {[1, 2]: 3}"
   ]
  },
  {
   "cell_type": "code",
   "execution_count": 23,
   "metadata": {},
   "outputs": [],
   "source": [
    "d = {frozenset([1, 2]): 3}"
   ]
  },
  {
   "cell_type": "markdown",
   "metadata": {},
   "source": [
    "## Copy, deepcopy"
   ]
  },
  {
   "cell_type": "code",
   "execution_count": null,
   "metadata": {},
   "outputs": [],
   "source": [
    "from copy import copy\n",
    "a = [1, 2, []]\n",
    "b = copy(a)\n",
    "b[2].append(3)\n",
    "b.append(5)\n",
    "a, b"
   ]
  },
  {
   "cell_type": "code",
   "execution_count": null,
   "metadata": {},
   "outputs": [],
   "source": [
    "from copy import deepcopy\n",
    "a = [1, 500, []]\n",
    "b = deepcopy(a)\n",
    "b[2].append(3)\n",
    "a, b"
   ]
  },
  {
   "cell_type": "code",
   "execution_count": null,
   "metadata": {},
   "outputs": [],
   "source": []
  },
  {
   "cell_type": "markdown",
   "metadata": {},
   "source": [
    "## List comprehension, dict comprehension, set comprehension"
   ]
  },
  {
   "cell_type": "code",
   "execution_count": null,
   "metadata": {},
   "outputs": [],
   "source": [
    "lst = [i ** 2 for i in range(5)]\n",
    "lst"
   ]
  },
  {
   "cell_type": "code",
   "execution_count": null,
   "metadata": {},
   "outputs": [],
   "source": [
    "dct = {i : i ** 2 for i in range(5)}\n",
    "dct"
   ]
  },
  {
   "cell_type": "code",
   "execution_count": null,
   "metadata": {},
   "outputs": [],
   "source": [
    "st = {i ** 2 for i in range(5)}\n",
    "st"
   ]
  },
  {
   "cell_type": "markdown",
   "metadata": {},
   "source": [
    "## Comprehension с условием"
   ]
  },
  {
   "cell_type": "code",
   "execution_count": null,
   "metadata": {},
   "outputs": [],
   "source": [
    "lst = [i ** 2 for i in range(5) if i % 2 == 1]\n",
    "lst"
   ]
  },
  {
   "cell_type": "code",
   "execution_count": null,
   "metadata": {},
   "outputs": [],
   "source": [
    "dct = {i : i**2 for i in range(5) if i % 2 == 1}\n",
    "dct"
   ]
  },
  {
   "cell_type": "code",
   "execution_count": null,
   "metadata": {},
   "outputs": [],
   "source": [
    "st = {i**2 for i in range(5) if i % 2 == 1}\n",
    "st"
   ]
  },
  {
   "cell_type": "markdown",
   "metadata": {},
   "source": [
    "## Defaultdict"
   ]
  },
  {
   "cell_type": "code",
   "execution_count": null,
   "metadata": {},
   "outputs": [],
   "source": [
    "from collections import defaultdict\n",
    "\n",
    "dct = defaultdict(int)\n",
    "\n",
    "dct[2]"
   ]
  },
  {
   "cell_type": "code",
   "execution_count": null,
   "metadata": {},
   "outputs": [],
   "source": [
    "dct = {}\n",
    "\n",
    "for i in range(100):\n",
    "    j = i % 10\n",
    "    if j not in dct:\n",
    "        dct[j] = []\n",
    "    dct[j].append(i)\n",
    "\n",
    "dct"
   ]
  },
  {
   "cell_type": "code",
   "execution_count": null,
   "metadata": {},
   "outputs": [],
   "source": [
    "from collections import defaultdict\n",
    "\n",
    "dct = defaultdict(list)\n",
    "\n",
    "for i in range(100):\n",
    "    dct[i % 10].append(i)\n",
    "\n",
    "dict(dct)"
   ]
  },
  {
   "cell_type": "code",
   "execution_count": null,
   "metadata": {},
   "outputs": [],
   "source": [
    "# Не делайте проверки в условиях через взятие по индексу!\n",
    "\n",
    "dct = defaultdict(int)\n",
    "dct[4] = 1\n",
    "\n",
    "for i in range(5):\n",
    "    if dct[i] == 1:\n",
    "        print(\"Found\")\n",
    "\n",
    "dct"
   ]
  },
  {
   "cell_type": "code",
   "execution_count": 33,
   "metadata": {},
   "outputs": [],
   "source": [
    "a = \"hello\"\n",
    "k = a[::-1]"
   ]
  },
  {
   "cell_type": "code",
   "execution_count": null,
   "metadata": {},
   "outputs": [],
   "source": [
    "k"
   ]
  },
  {
   "cell_type": "code",
   "execution_count": null,
   "metadata": {},
   "outputs": [],
   "source": [
    "\"\".join(reversed(a))"
   ]
  },
  {
   "cell_type": "markdown",
   "metadata": {},
   "source": [
    "## Ordered dict"
   ]
  },
  {
   "cell_type": "code",
   "execution_count": null,
   "metadata": {},
   "outputs": [],
   "source": [
    "from collections import OrderedDict\n",
    "\n",
    "data = OrderedDict([(1, 'a'), (3, 'c'), (2, 'b')])\n",
    "data[5] = 'y'\n",
    "for k, v in data.items():\n",
    "    pass\n",
    "data"
   ]
  },
  {
   "cell_type": "code",
   "execution_count": null,
   "metadata": {},
   "outputs": [],
   "source": [
    "data.update({3: 'd', 4: 'e'})\n",
    "data"
   ]
  },
  {
   "cell_type": "markdown",
   "metadata": {},
   "source": [
    "As of Python 3.6, for the CPython implementation of Python, dictionaries remember the order of items inserted. This is considered an implementation detail in Python 3.6; you need to use OrderedDict if you want insertion ordering that's guaranteed across other implementations of Python (and other ordered behavior[1]).\n",
    "\n",
    "As of Python 3.7, this is a guaranteed language feature, not merely an implementation detail. From a python-dev message by GvR:\n",
    "\n",
    "https://stackoverflow.com/questions/39980323/are-dictionaries-ordered-in-python-3-6"
   ]
  },
  {
   "cell_type": "code",
   "execution_count": null,
   "metadata": {},
   "outputs": [],
   "source": [
    "all([True, True, False]), all([True, True, True])"
   ]
  },
  {
   "cell_type": "code",
   "execution_count": null,
   "metadata": {},
   "outputs": [],
   "source": [
    "any([True, False, True]), any([False, False, False])"
   ]
  },
  {
   "cell_type": "code",
   "execution_count": null,
   "metadata": {},
   "outputs": [],
   "source": [
    "a = [1, 2, 3]\n",
    "\n",
    "if all(e % 2 == 0 for e in a):\n",
    "    print(\"YES\")\n",
    "else:\n",
    "    print(\"NO\")"
   ]
  },
  {
   "cell_type": "code",
   "execution_count": null,
   "metadata": {},
   "outputs": [],
   "source": [
    "a = [1, 2, 3]\n",
    "\n",
    "if any(e % 2 == 0 for e in a):\n",
    "    print(\"YES\")\n",
    "else:\n",
    "    print(\"NO\")"
   ]
  },
  {
   "cell_type": "code",
   "execution_count": null,
   "metadata": {},
   "outputs": [],
   "source": [
    "if len(list(e for e in a if e % 2 == 0)):\n",
    "    print(\"YES\")\n",
    "else:\n",
    "    print(\"NO\")"
   ]
  },
  {
   "cell_type": "code",
   "execution_count": null,
   "metadata": {},
   "outputs": [],
   "source": []
  }
 ],
 "metadata": {
  "kernelspec": {
   "display_name": "Python 3",
   "language": "python",
   "name": "python3"
  },
  "language_info": {
   "codemirror_mode": {
    "name": "ipython",
    "version": 3
   },
   "file_extension": ".py",
   "mimetype": "text/x-python",
   "name": "python",
   "nbconvert_exporter": "python",
   "pygments_lexer": "ipython3",
   "version": "3.11.6"
  },
  "orig_nbformat": 4
 },
 "nbformat": 4,
 "nbformat_minor": 2
}
