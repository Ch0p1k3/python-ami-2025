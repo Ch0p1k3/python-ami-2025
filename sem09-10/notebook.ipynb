{
 "cells": [
  {
   "cell_type": "markdown",
   "metadata": {},
   "source": [
    "## Исключения"
   ]
  },
  {
   "cell_type": "markdown",
   "metadata": {},
   "source": [
    "```\n",
    "BaseException\n",
    " ├── BaseExceptionGroup\n",
    " ├── GeneratorExit\n",
    " ├── KeyboardInterrupt\n",
    " ├── SystemExit\n",
    " └── Exception\n",
    "      ├── ArithmeticError\n",
    "      │    ├── FloatingPointError\n",
    "      │    ├── OverflowError\n",
    "      │    └── ZeroDivisionError\n",
    "      ├── AssertionError\n",
    "      ├── AttributeError\n",
    "      ├── BufferError\n",
    "      ├── EOFError\n",
    "      ├── ExceptionGroup [BaseExceptionGroup]\n",
    "      ├── ImportError\n",
    "      │    └── ModuleNotFoundError\n",
    "      ├── LookupError\n",
    "      │    ├── IndexError\n",
    "      │    └── KeyError\n",
    "      ├── MemoryError\n",
    "      ├── NameError\n",
    "      │    └── UnboundLocalError\n",
    "      ├── OSError\n",
    "      │    ├── BlockingIOError\n",
    "      │    ├── ChildProcessError\n",
    "      │    ├── ConnectionError\n",
    "      │    │    ├── BrokenPipeError\n",
    "      │    │    ├── ConnectionAbortedError\n",
    "      │    │    ├── ConnectionRefusedError\n",
    "      │    │    └── ConnectionResetError\n",
    "      │    ├── FileExistsError\n",
    "      │    ├── FileNotFoundError\n",
    "      │    ├── InterruptedError\n",
    "      │    ├── IsADirectoryError\n",
    "      │    ├── NotADirectoryError\n",
    "      │    ├── PermissionError\n",
    "      │    ├── ProcessLookupError\n",
    "      │    └── TimeoutError\n",
    "      ├── ReferenceError\n",
    "      ├── RuntimeError\n",
    "      │    ├── NotImplementedError\n",
    "      │    └── RecursionError\n",
    "      ├── StopAsyncIteration\n",
    "      ├── StopIteration\n",
    "      ├── SyntaxError\n",
    "      │    └── IndentationError\n",
    "      │         └── TabError\n",
    "      ├── SystemError\n",
    "      ├── TypeError\n",
    "      ├── ValueError\n",
    "      │    └── UnicodeError\n",
    "      │         ├── UnicodeDecodeError\n",
    "      │         ├── UnicodeEncodeError\n",
    "      │         └── UnicodeTranslateError\n",
    "      └── Warning\n",
    "           ├── BytesWarning\n",
    "           ├── DeprecationWarning\n",
    "           ├── EncodingWarning\n",
    "           ├── FutureWarning\n",
    "           ├── ImportWarning\n",
    "           ├── PendingDeprecationWarning\n",
    "           ├── ResourceWarning\n",
    "           ├── RuntimeWarning\n",
    "           ├── SyntaxWarning\n",
    "           ├── UnicodeWarning\n",
    "           └── UserWarning\n",
    "```"
   ]
  },
  {
   "cell_type": "markdown",
   "metadata": {},
   "source": [
    "**try .. except не создает локальную область видимости!!!**"
   ]
  },
  {
   "cell_type": "code",
   "execution_count": null,
   "metadata": {},
   "outputs": [],
   "source": [
    "try:\n",
    "    ...\n",
    "except:\n",
    "    print(\"except\")\n",
    "else:\n",
    "    print(\"else\")\n",
    "finally:\n",
    "    print(\"finally\")"
   ]
  },
  {
   "cell_type": "code",
   "execution_count": null,
   "metadata": {},
   "outputs": [],
   "source": [
    "try:\n",
    "    some_funtion()\n",
    "except:\n",
    "    pass"
   ]
  },
  {
   "cell_type": "code",
   "execution_count": null,
   "metadata": {},
   "outputs": [],
   "source": [
    "try:\n",
    "    some_funtion()\n",
    "except BaseException:\n",
    "    pass"
   ]
  },
  {
   "cell_type": "code",
   "execution_count": null,
   "metadata": {},
   "outputs": [],
   "source": [
    "try:\n",
    "    some_funtion()\n",
    "except Exception:\n",
    "    pass"
   ]
  },
  {
   "cell_type": "code",
   "execution_count": null,
   "metadata": {},
   "outputs": [],
   "source": [
    "try:\n",
    "    some_function()\n",
    "except RuntimeError:\n",
    "    pass"
   ]
  },
  {
   "cell_type": "code",
   "execution_count": null,
   "metadata": {},
   "outputs": [],
   "source": [
    "class StrError(Exception):\n",
    "    def __str__(self):\n",
    "        return f'Str error: {self.args=}'\n",
    "\n",
    "\n",
    "raise StrError([1, 2, 3])"
   ]
  },
  {
   "cell_type": "code",
   "execution_count": null,
   "metadata": {},
   "outputs": [],
   "source": [
    "try:\n",
    "    raise TypeError('bad type')\n",
    "except Exception as e:\n",
    "    e.add_note('Add some information')\n",
    "    raise"
   ]
  },
  {
   "cell_type": "code",
   "execution_count": null,
   "metadata": {},
   "outputs": [],
   "source": [
    "class StrError(Exception):\n",
    "    def __str__(self):\n",
    "        return f'Str error: {self.args=}'\n",
    "\n",
    "\n",
    "raise StrError([1, 2, 3])"
   ]
  },
  {
   "cell_type": "markdown",
   "metadata": {},
   "source": [
    "# Exception. Assert"
   ]
  },
  {
   "cell_type": "code",
   "execution_count": null,
   "metadata": {},
   "outputs": [],
   "source": [
    "assert True"
   ]
  },
  {
   "cell_type": "code",
   "execution_count": null,
   "metadata": {},
   "outputs": [],
   "source": [
    "assert False"
   ]
  },
  {
   "cell_type": "code",
   "execution_count": null,
   "metadata": {},
   "outputs": [],
   "source": [
    "assert 2 + 2 == 4  # assert выражает уверенность, что при корректной работе программы\n",
    "                   # утвержение верно абсолютно всегда"
   ]
  },
  {
   "cell_type": "code",
   "execution_count": null,
   "metadata": {},
   "outputs": [],
   "source": [
    "empty_list = []\n",
    "assert empty_list, \"List must not be empty!\""
   ]
  },
  {
   "cell_type": "markdown",
   "metadata": {},
   "source": [
    "# Warnings"
   ]
  },
  {
   "cell_type": "code",
   "execution_count": null,
   "metadata": {},
   "outputs": [],
   "source": [
    "def code_with_warning():\n",
    "    from numpy import int32\n",
    "    return int32(1) / int32(0)"
   ]
  },
  {
   "cell_type": "code",
   "execution_count": null,
   "metadata": {},
   "outputs": [],
   "source": [
    "code_with_warning()"
   ]
  },
  {
   "cell_type": "code",
   "execution_count": null,
   "metadata": {},
   "outputs": [],
   "source": [
    "try:\n",
    "    code_with_warning()\n",
    "except Exception as e:\n",
    "    print(e)"
   ]
  },
  {
   "cell_type": "code",
   "execution_count": null,
   "metadata": {},
   "outputs": [],
   "source": [
    "try:\n",
    "    code_with_warning()\n",
    "except Warning as e:\n",
    "    print(e)"
   ]
  },
  {
   "cell_type": "code",
   "execution_count": null,
   "metadata": {},
   "outputs": [],
   "source": [
    "import warnings\n",
    "\n",
    "warnings.filterwarnings(\"ignore\")\n",
    "code_with_warning()"
   ]
  },
  {
   "cell_type": "code",
   "execution_count": null,
   "metadata": {},
   "outputs": [],
   "source": [
    "code_with_warning()"
   ]
  },
  {
   "cell_type": "code",
   "execution_count": null,
   "metadata": {},
   "outputs": [],
   "source": [
    "warnings.resetwarnings()"
   ]
  },
  {
   "cell_type": "code",
   "execution_count": null,
   "metadata": {},
   "outputs": [],
   "source": [
    "code_with_warning()"
   ]
  },
  {
   "cell_type": "code",
   "execution_count": null,
   "metadata": {},
   "outputs": [],
   "source": [
    "try:\n",
    "    raise TypeError('bad type')\n",
    "except Exception as e:\n",
    "    e.add_note('Add some information')\n",
    "    raise"
   ]
  },
  {
   "cell_type": "code",
   "execution_count": null,
   "metadata": {},
   "outputs": [],
   "source": [
    "try:\n",
    "    raise TypeError('bad type')\n",
    "except Exception as e:\n",
    "    raise BaseException('bad value') from e"
   ]
  },
  {
   "cell_type": "code",
   "execution_count": null,
   "metadata": {},
   "outputs": [],
   "source": [
    "import sys\n",
    "from types import TracebackType\n",
    "from typing import Any\n",
    "\n",
    "\n",
    "class BaseExceptionCopy:\n",
    "    args: tuple[Any, ...]\n",
    "    __cause__: BaseException | None\n",
    "    __context__: BaseException | None\n",
    "    __suppress_context__: bool\n",
    "    __traceback__: TracebackType | None\n",
    "    def __init__(self, *args: object) -> None: ...\n",
    "    def __setstate__(self, __state: dict[str, Any] | None) -> None: ...\n",
    "    def with_traceback(self, __tb: TracebackType | None): ...\n",
    "    if sys.version_info >= (3, 11):\n",
    "        # only present after add_note() is called\n",
    "        __notes__: list[str]\n",
    "        def add_note(self, __note: str) -> None: ..."
   ]
  },
  {
   "cell_type": "markdown",
   "metadata": {},
   "source": [
    "- `e.__cause__` - причина исключения, устанавливается при raise ... from ...\n",
    "- `e.__context__`  - последнее пойманное исключение, для цепочек исключений\n",
    "- `e.__traceback__` - [traceback](https://realpython.com/python-traceback/#what-is-a-python-traceback)\n",
    "\n",
    "https://ru.stackoverflow.com/questions/1485541/%D0%A7%D1%82%D0%BE-%D0%B7%D0%B0-%D0%BA%D0%BE%D0%BD%D1%81%D1%82%D1%80%D1%83%D0%BA%D1%86%D0%B8%D1%8F-raise-from-%D0%B2-python?ysclid=lmzg4851je645187070"
   ]
  },
  {
   "cell_type": "markdown",
   "metadata": {},
   "source": [
    "# Контекстные менеджеры"
   ]
  },
  {
   "cell_type": "markdown",
   "metadata": {},
   "source": [
    "Доклад Скотта Майерса \"Why C++ Sails When the Vasa Sank\"\n",
    "\n",
    "- \"What you would consider the single most important feature in C++?\"\n",
    "- Destructors. It is RAII (Resource Acquisition Is Initialization)\n",
    "\n",
    "RAII:\n",
    "- Получение ресурса - инициализация\n",
    "- Освобождение ресурса - уничтожение"
   ]
  },
  {
   "cell_type": "code",
   "execution_count": null,
   "metadata": {},
   "outputs": [],
   "source": [
    "f = open('file.txt', 'w')\n",
    "print('THIS IS RAII', file=f)\n",
    "f.close()"
   ]
  },
  {
   "cell_type": "code",
   "execution_count": null,
   "metadata": {},
   "outputs": [],
   "source": [
    "def raise_exception():\n",
    "    raise Exception('Some unexpected exception here')\n",
    "\n",
    "\n",
    "def open_the_file_and_do_smth():\n",
    "    f = open('file_and_do_smth.txt', 'w')\n",
    "    try:\n",
    "        raise_exception()\n",
    "    except Exception:\n",
    "        f.close()\n",
    "        raise\n",
    "    print('WRITE IT', file=f)\n",
    "    f.close()\n",
    "\n",
    "\n",
    "open_the_file_and_do_smth()"
   ]
  },
  {
   "cell_type": "code",
   "execution_count": null,
   "metadata": {},
   "outputs": [],
   "source": [
    "def raise_exception():\n",
    "    raise Exception('Some unexpected exception here')\n",
    "\n",
    "\n",
    "def open_the_file_and_do_smth():\n",
    "    f = open('file_and_do_smth.txt', 'w')\n",
    "    try:\n",
    "        raise_exception()\n",
    "        print('WRITE IT', file=f)\n",
    "        f.close()\n",
    "    finally:\n",
    "        f.close()\n",
    "\n",
    "\n",
    "open_the_file_and_do_smth()"
   ]
  },
  {
   "cell_type": "code",
   "execution_count": null,
   "metadata": {},
   "outputs": [],
   "source": [
    "def raise_exception():\n",
    "    raise Exception('Some unexpected exception here')\n",
    "\n",
    "\n",
    "def open_the_file_and_do_smth():\n",
    "    with open('file_and_do_smth.txt', 'w') as f:\n",
    "        raise_exception()\n",
    "        print('WRITE IT', file=f)\n",
    "\n",
    "\n",
    "open_the_file_and_do_smth()"
   ]
  },
  {
   "cell_type": "code",
   "execution_count": null,
   "metadata": {},
   "outputs": [],
   "source": [
    "with open('file1.txt', 'w') as f:\n",
    "    f.write('Hello')\n",
    "# file is closed\n",
    "f.write('world')"
   ]
  },
  {
   "cell_type": "markdown",
   "metadata": {},
   "source": [
    "`contextlib.contextmanager` — удобный способ создавать контекстные менеджеры"
   ]
  },
  {
   "cell_type": "code",
   "execution_count": null,
   "metadata": {},
   "outputs": [],
   "source": [
    "from contextlib import contextmanager\n",
    "\n",
    "\n",
    "@contextmanager\n",
    "def first(*args):\n",
    "    print('before')\n",
    "    # не забывайте про исключения!\n",
    "    try:\n",
    "        yield\n",
    "    except args:\n",
    "        ...\n",
    "\n",
    "\n",
    "class First:\n",
    "    def __init__(self, *args):\n",
    "        self._exps = args\n",
    "\n",
    "    def __enter__(self):\n",
    "        ...\n",
    "\n",
    "    # * exc_type - ошибки, которые были пойманы за время работы\n",
    "    # * exc_value - значения ошибок (помним, например, текст)\n",
    "    # * exc_traceback - объект с тем, где это было (чаще всего не используется)\n",
    "    def __exit__(self, exc_type, exc_value, exc_traceback):\n",
    "        if not isinstance(exc_type, self._exps):\n",
    "            raise exc_type(exc_value)\n",
    "\n",
    "\n",
    "\n",
    "@contextmanager\n",
    "def second():\n",
    "    print('before')\n",
    "    try:\n",
    "        yield 2\n",
    "    finally:\n",
    "        print('after')\n",
    "\n",
    "\n",
    "class Second:\n",
    "    def __enter__(self):\n",
    "        print('before')\n",
    "        return 2\n",
    "\n",
    "    def __exit__(self, exc_type, exc_value, exc_traceback):\n",
    "        print('after')"
   ]
  },
  {
   "cell_type": "code",
   "execution_count": null,
   "metadata": {},
   "outputs": [],
   "source": [
    "with first() as f:\n",
    "    print(f)\n",
    "\n",
    "print()\n",
    "\n",
    "with First() as f:\n",
    "    print(f)"
   ]
  },
  {
   "cell_type": "markdown",
   "metadata": {},
   "source": [
    "Несколько контекстных менеджеров, вложенные контекстные менеджеры"
   ]
  },
  {
   "cell_type": "code",
   "execution_count": null,
   "metadata": {},
   "outputs": [],
   "source": [
    "# nested contexts\n",
    "with first() as f, second() as s:\n",
    "    print(f, s)"
   ]
  },
  {
   "cell_type": "code",
   "execution_count": null,
   "metadata": {},
   "outputs": [],
   "source": [
    "with first() as f:\n",
    "    with second() as s:\n",
    "        print(f, s)"
   ]
  },
  {
   "cell_type": "markdown",
   "metadata": {},
   "source": [
    "`as smth` - опционально"
   ]
  },
  {
   "cell_type": "code",
   "execution_count": null,
   "metadata": {},
   "outputs": [],
   "source": [
    "with first():\n",
    "    pass"
   ]
  },
  {
   "cell_type": "markdown",
   "metadata": {},
   "source": [
    "# Генераторы"
   ]
  },
  {
   "cell_type": "markdown",
   "metadata": {},
   "source": [
    "**Генератор**\n",
    "\n",
    "Это итератор, который получается в результате вызова функции, содержащей ключевое слово `yield`."
   ]
  },
  {
   "cell_type": "code",
   "execution_count": null,
   "metadata": {},
   "outputs": [],
   "source": [
    "import typing as tp\n",
    "\n",
    "def countdown(n: int) -> tp.Iterator[int]:\n",
    "    print(f'Counting down from {n}')\n",
    "    for i in range(n, 0, -1):\n",
    "        yield i\n",
    "    print('Done')"
   ]
  },
  {
   "cell_type": "code",
   "execution_count": null,
   "metadata": {},
   "outputs": [],
   "source": [
    "counter = countdown(2)\n",
    "counter"
   ]
  },
  {
   "cell_type": "code",
   "execution_count": null,
   "metadata": {},
   "outputs": [],
   "source": [
    "iter(counter) is counter"
   ]
  },
  {
   "cell_type": "code",
   "execution_count": null,
   "metadata": {},
   "outputs": [],
   "source": [
    "next(counter)"
   ]
  },
  {
   "cell_type": "code",
   "execution_count": null,
   "metadata": {},
   "outputs": [],
   "source": [
    "next(counter)"
   ]
  },
  {
   "cell_type": "code",
   "execution_count": null,
   "metadata": {},
   "outputs": [],
   "source": [
    "next(counter)"
   ]
  },
  {
   "cell_type": "code",
   "execution_count": null,
   "metadata": {},
   "outputs": [],
   "source": [
    "def magic_countdown(n: int) -> tp.Iterator[int]:\n",
    "    yield 42\n",
    "    yield from countdown(n)"
   ]
  },
  {
   "cell_type": "code",
   "execution_count": null,
   "metadata": {},
   "outputs": [],
   "source": [
    "counter = magic_countdown(5)\n",
    "counter"
   ]
  },
  {
   "cell_type": "code",
   "execution_count": null,
   "metadata": {},
   "outputs": [],
   "source": [
    "for n in counter:\n",
    "    print(n)"
   ]
  },
  {
   "cell_type": "markdown",
   "metadata": {},
   "source": [
    "## Генераторные выражения"
   ]
  },
  {
   "cell_type": "code",
   "execution_count": null,
   "metadata": {},
   "outputs": [],
   "source": [
    "squares = (x ** 2 for x in range(5))\n",
    "squares"
   ]
  },
  {
   "cell_type": "markdown",
   "metadata": {},
   "source": [
    "## itertools"
   ]
  },
  {
   "cell_type": "markdown",
   "metadata": {},
   "source": [
    "## chain"
   ]
  },
  {
   "cell_type": "code",
   "execution_count": null,
   "metadata": {},
   "outputs": [],
   "source": [
    "from itertools import chain\n",
    "\n",
    "for e in chain(range(3), [1, 2], 'lol', [[i] for i in range(4)]):\n",
    "    print(e, end=' ')"
   ]
  },
  {
   "cell_type": "code",
   "execution_count": null,
   "metadata": {},
   "outputs": [],
   "source": [
    "chain.from_iterable()"
   ]
  },
  {
   "cell_type": "markdown",
   "metadata": {},
   "source": [
    "##  islice, count, cycle, repeat"
   ]
  },
  {
   "cell_type": "code",
   "execution_count": null,
   "metadata": {},
   "outputs": [],
   "source": [
    "from itertools import count, cycle, repeat, islice"
   ]
  },
  {
   "cell_type": "code",
   "execution_count": null,
   "metadata": {},
   "outputs": [],
   "source": [
    "sequence = range(10)"
   ]
  },
  {
   "cell_type": "code",
   "execution_count": null,
   "metadata": {},
   "outputs": [],
   "source": [
    "list(islice(sequence, 2, 5))  # seq[2:5]"
   ]
  },
  {
   "cell_type": "code",
   "execution_count": null,
   "metadata": {},
   "outputs": [],
   "source": [
    "list(islice(sequence, 2, 8, 2))  # seq[2:5]"
   ]
  },
  {
   "cell_type": "code",
   "execution_count": null,
   "metadata": {},
   "outputs": [],
   "source": [
    "list(islice(count(start=0, step=3), 10))"
   ]
  },
  {
   "cell_type": "code",
   "execution_count": null,
   "metadata": {},
   "outputs": [],
   "source": [
    "list(islice(cycle('kek'), 9))"
   ]
  },
  {
   "cell_type": "code",
   "execution_count": null,
   "metadata": {},
   "outputs": [],
   "source": [
    "list(islice(repeat(42), 4))"
   ]
  },
  {
   "cell_type": "markdown",
   "metadata": {},
   "source": [
    "## dropwhile, takewhile"
   ]
  },
  {
   "cell_type": "code",
   "execution_count": null,
   "metadata": {},
   "outputs": [],
   "source": [
    "from itertools import dropwhile, takewhile"
   ]
  },
  {
   "cell_type": "code",
   "execution_count": null,
   "metadata": {},
   "outputs": [],
   "source": [
    "list(takewhile(lambda x : x < 5, range(10)))"
   ]
  },
  {
   "cell_type": "code",
   "execution_count": null,
   "metadata": {},
   "outputs": [],
   "source": [
    "list(dropwhile(lambda x : x < 5, range(10)))"
   ]
  },
  {
   "cell_type": "markdown",
   "metadata": {},
   "source": [
    "## tee"
   ]
  },
  {
   "cell_type": "code",
   "execution_count": null,
   "metadata": {},
   "outputs": [],
   "source": [
    "from itertools import tee"
   ]
  },
  {
   "cell_type": "code",
   "execution_count": null,
   "metadata": {},
   "outputs": [],
   "source": [
    "it1, it2 = tee(range(3), 2)\n",
    "\n",
    "list(it1), list(it2)"
   ]
  },
  {
   "cell_type": "markdown",
   "metadata": {},
   "source": [
    "## product"
   ]
  },
  {
   "cell_type": "code",
   "execution_count": null,
   "metadata": {},
   "outputs": [],
   "source": [
    "from itertools import product"
   ]
  },
  {
   "cell_type": "code",
   "execution_count": null,
   "metadata": {},
   "outputs": [],
   "source": [
    "roles = (\"bs\", \"yabs\", \"bsrank\")\n",
    "modes = (\"meta\", \"stat\")\n",
    "\n",
    "for r in roles:\n",
    "    for m in modes:\n",
    "        print(f\"{r=}, {m=}\")"
   ]
  },
  {
   "cell_type": "code",
   "execution_count": null,
   "metadata": {},
   "outputs": [],
   "source": [
    "for r, m in product(roles, modes):\n",
    "    print(f\"{r=}, {m=}\")"
   ]
  },
  {
   "cell_type": "markdown",
   "metadata": {},
   "source": [
    "Ну есть и другие permutations, combinations, groupby"
   ]
  },
  {
   "cell_type": "markdown",
   "metadata": {},
   "source": [
    "## collections"
   ]
  },
  {
   "cell_type": "markdown",
   "metadata": {},
   "source": [
    "## Counter"
   ]
  },
  {
   "cell_type": "code",
   "execution_count": null,
   "metadata": {},
   "outputs": [],
   "source": [
    "from collections import Counter\n",
    "\n",
    "s = ['ab', 'ab', 'bc', 'cd', 'ab']\n",
    "c = Counter(s)\n",
    "\n",
    "print(c)"
   ]
  },
  {
   "cell_type": "markdown",
   "metadata": {},
   "source": [
    "## Deque"
   ]
  },
  {
   "cell_type": "code",
   "execution_count": null,
   "metadata": {},
   "outputs": [],
   "source": [
    "from collections import deque\n",
    "\n",
    "s = ['ab', 'ab', 'bc', 'cd', 'ab']\n",
    "d = deque(s)\n",
    "print(d)\n",
    "\n",
    "print('-' * 30)\n",
    "\n",
    "for elem in d:\n",
    "    print(elem)\n",
    "\n",
    "print('-' * 30)\n",
    "\n",
    "# Добавление элементов\n",
    "\n",
    "d.append('aa')\n",
    "d.appendleft('dd')\n",
    "d.extend(['hh', 'pp'])\n",
    "d.extendleft(['hh', 'pp'])\n",
    "print(d)\n",
    "\n",
    "print('-' * 30)\n",
    "\n",
    "# Удаление элементов\n",
    "\n",
    "print(d.pop())\n",
    "print(d.popleft())\n",
    "print(d)\n",
    "\n",
    "print('-' * 30)\n",
    "\n",
    "# Обращение к элементам\n",
    "\n",
    "print(d[0])\n",
    "print(d[-2])\n",
    "print(d.count('hh'))\n",
    "\n",
    "print('-' * 30)\n",
    "\n",
    "# Смещение очереди влево-вправо\n",
    "\n",
    "d.rotate(1) # влево\n",
    "# 1-2-3-4-5 -> rotate(1) -> 2-3-4-5-1\n",
    "print(d)\n",
    "d.rotate(-2) # вправо\n",
    "# 1-2-3-4-5 -> rotate(-2) -> 4-5-1-2-3\n",
    "print(d)\n",
    "d.reverse() # перевернуть очередь\n",
    "print(d)\n",
    "\n",
    "print('-' * 30)\n",
    "\n",
    "# вставка и удаление\n",
    "\n",
    "d.insert(1, 'x')\n",
    "print(d)\n",
    "print(d.index('x'))\n",
    "d.remove('x')\n",
    "print(d)"
   ]
  },
  {
   "cell_type": "markdown",
   "metadata": {},
   "source": [
    "## heapq"
   ]
  },
  {
   "cell_type": "code",
   "execution_count": null,
   "metadata": {},
   "outputs": [],
   "source": [
    "import heapq\n",
    "\n",
    "a = []\n",
    "print(a)\n",
    "heapq.heappush(a, 1)\n",
    "print(a)\n",
    "heapq.heappush(a, 2)\n",
    "print(a)\n",
    "heapq.heappush(a, 0)\n",
    "print(a)\n",
    "heapq.heappush(a, 4)\n",
    "print(a)\n",
    "heapq.heappush(a, -1)\n",
    "print(a)"
   ]
  },
  {
   "cell_type": "code",
   "execution_count": null,
   "metadata": {},
   "outputs": [],
   "source": [
    "while a:\n",
    "    value = heapq.heappop(a)\n",
    "    print(value, a)"
   ]
  },
  {
   "cell_type": "code",
   "execution_count": null,
   "metadata": {},
   "outputs": [],
   "source": [
    " # Получить 3 максимальных элемента\n",
    "\n",
    "a = []\n",
    "for value in [1, 5, 7, 2, 4, 3]:\n",
    "    print(a)\n",
    "    if len(a) != 3:\n",
    "        heapq.heappush(a, value)\n",
    "    elif a[0] < value:\n",
    "        heapq.heapreplace(a, value)\n",
    "a"
   ]
  },
  {
   "cell_type": "code",
   "execution_count": null,
   "metadata": {},
   "outputs": [],
   "source": [
    "def foo():\n",
    "    print(\"123\")"
   ]
  },
  {
   "cell_type": "code",
   "execution_count": null,
   "metadata": {},
   "outputs": [],
   "source": [
    "exec(\"foo()\")"
   ]
  }
 ],
 "metadata": {
  "kernelspec": {
   "display_name": ".venv",
   "language": "python",
   "name": "python3"
  },
  "language_info": {
   "codemirror_mode": {
    "name": "ipython",
    "version": 3
   },
   "file_extension": ".py",
   "mimetype": "text/x-python",
   "name": "python",
   "nbconvert_exporter": "python",
   "pygments_lexer": "ipython3",
   "version": "3.13.5"
  }
 },
 "nbformat": 4,
 "nbformat_minor": 2
}
