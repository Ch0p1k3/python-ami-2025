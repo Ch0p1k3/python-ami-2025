{
 "cells": [
  {
   "cell_type": "markdown",
   "metadata": {},
   "source": [
    "# Функции, рекурсии"
   ]
  },
  {
   "cell_type": "markdown",
   "metadata": {},
   "source": [
    "## Функции"
   ]
  },
  {
   "cell_type": "code",
   "execution_count": null,
   "metadata": {},
   "outputs": [],
   "source": [
    "def format(l: list[int]) -> str:\n",
    "    quotify = lambda c: f'\"{c}\"'\n",
    "    return f\"[{', '.join(quotify(c) for c in l)}]\""
   ]
  },
  {
   "cell_type": "code",
   "execution_count": null,
   "metadata": {},
   "outputs": [],
   "source": [
    "format([1, 2, 3])"
   ]
  },
  {
   "cell_type": "code",
   "execution_count": null,
   "metadata": {},
   "outputs": [],
   "source": [
    "def format(l: list[int]) -> str:\n",
    "    # https://peps.python.org/pep-0008/\n",
    "    # Always use a def statement instead of an assignment statement that binds a lambda expression directly to an identifier:\n",
    "\n",
    "    def quotify(c: int) -> str:\n",
    "        return f'\"{c}\"'\n",
    "\n",
    "    return f\"[{', '.join(quotify(c) for c in l)}]\""
   ]
  },
  {
   "cell_type": "code",
   "execution_count": null,
   "metadata": {},
   "outputs": [],
   "source": [
    "format([1, 2, 3])"
   ]
  },
  {
   "cell_type": "code",
   "execution_count": null,
   "metadata": {},
   "outputs": [],
   "source": [
    "# Correct:\n",
    "def f(x): return 2 * x\n",
    "\n",
    "# Wrong:\n",
    "f = lambda x: 2 * x"
   ]
  },
  {
   "cell_type": "markdown",
   "metadata": {},
   "source": [
    "## Pass, Ellipsis"
   ]
  },
  {
   "cell_type": "code",
   "execution_count": null,
   "metadata": {},
   "outputs": [],
   "source": [
    "def function():\n",
    "    pass"
   ]
  },
  {
   "cell_type": "code",
   "execution_count": null,
   "metadata": {},
   "outputs": [],
   "source": [
    "def function():\n",
    "    ...  # Ellipsis"
   ]
  },
  {
   "cell_type": "code",
   "execution_count": null,
   "metadata": {},
   "outputs": [],
   "source": [
    "print(function())"
   ]
  },
  {
   "cell_type": "markdown",
   "metadata": {},
   "source": [
    "В питоне функция всегда возвращает значение. Если в теле функции отсутствует \"return\", она возвращает \"None\"\n"
   ]
  },
  {
   "cell_type": "code",
   "execution_count": null,
   "metadata": {},
   "outputs": [],
   "source": [
    "print(function())"
   ]
  },
  {
   "cell_type": "markdown",
   "metadata": {},
   "source": [
    "## Документация"
   ]
  },
  {
   "cell_type": "code",
   "execution_count": null,
   "metadata": {},
   "outputs": [],
   "source": [
    "def product(a: int, b: int, c: int):\n",
    "    # Умножение трех целых чисел\n",
    "    return a * b * c"
   ]
  },
  {
   "cell_type": "code",
   "execution_count": null,
   "metadata": {},
   "outputs": [],
   "source": [
    "help(product)"
   ]
  },
  {
   "cell_type": "code",
   "execution_count": null,
   "metadata": {},
   "outputs": [],
   "source": [
    "def product(a: int, b: int, c: int):\n",
    "    '''\n",
    "    Умножение трех целых чисел\n",
    "    '''\n",
    "    return a * b * c"
   ]
  },
  {
   "cell_type": "code",
   "execution_count": null,
   "metadata": {},
   "outputs": [],
   "source": [
    "help(product)"
   ]
  },
  {
   "cell_type": "code",
   "execution_count": null,
   "metadata": {},
   "outputs": [],
   "source": [
    "help(max)"
   ]
  },
  {
   "cell_type": "markdown",
   "metadata": {},
   "source": [
    "Антипатерн: не писать документацию"
   ]
  },
  {
   "cell_type": "code",
   "execution_count": null,
   "metadata": {},
   "outputs": [],
   "source": [
    "pow"
   ]
  },
  {
   "cell_type": "code",
   "execution_count": null,
   "metadata": {},
   "outputs": [],
   "source": [
    "help(pow)"
   ]
  },
  {
   "cell_type": "markdown",
   "metadata": {},
   "source": [
    "## Исключительно именованные аргументы"
   ]
  },
  {
   "cell_type": "code",
   "execution_count": null,
   "metadata": {},
   "outputs": [],
   "source": [
    "import typing as tp\n",
    "\n",
    "\n",
    "def func(x: int, y: int, g: tp.Callable[[int], int] = abs):\n",
    "    '''\n",
    "    Возвращает результат g от суммы x и y\n",
    "    '''\n",
    "    return g(x + y)"
   ]
  },
  {
   "cell_type": "code",
   "execution_count": null,
   "metadata": {},
   "outputs": [],
   "source": [
    "def func(x: int, y: int, *, g: tp.Callable[[int], int] = abs):\n",
    "    '''\n",
    "    Возвращает результат g от суммы x и y\n",
    "    '''\n",
    "    return g(x + y)"
   ]
  },
  {
   "cell_type": "code",
   "execution_count": null,
   "metadata": {},
   "outputs": [],
   "source": [
    "func(1, 2, lambda x : x ** 2)"
   ]
  },
  {
   "cell_type": "code",
   "execution_count": null,
   "metadata": {},
   "outputs": [],
   "source": [
    "func(y=2, x=1, g=lambda x : x ** 2)"
   ]
  },
  {
   "cell_type": "code",
   "execution_count": null,
   "metadata": {},
   "outputs": [],
   "source": [
    "func(1, 2, g=lambda x : x ** 2)"
   ]
  },
  {
   "cell_type": "markdown",
   "metadata": {},
   "source": [
    "##  Исключительно позиционные аргументы"
   ]
  },
  {
   "cell_type": "code",
   "execution_count": null,
   "metadata": {},
   "outputs": [],
   "source": [
    "def func(x: int, y: int, /, *, g: tp.Callable[[int], int] = abs):\n",
    "    '''\n",
    "    Возвращает результат g от суммы x и y\n",
    "    '''\n",
    "    return g(x + y)"
   ]
  },
  {
   "cell_type": "code",
   "execution_count": null,
   "metadata": {},
   "outputs": [],
   "source": [
    "func(y=2, x=1, g=lambda x : x ** 2)"
   ]
  },
  {
   "cell_type": "code",
   "execution_count": null,
   "metadata": {},
   "outputs": [],
   "source": [
    "func(1, 2, g=lambda x : x ** 2)"
   ]
  },
  {
   "cell_type": "code",
   "execution_count": null,
   "metadata": {},
   "outputs": [],
   "source": [
    "func(1, 2, lambda x : x ** 2)"
   ]
  },
  {
   "cell_type": "markdown",
   "metadata": {},
   "source": [
    "##  Распаковка аргументов функции"
   ]
  },
  {
   "cell_type": "code",
   "execution_count": null,
   "metadata": {},
   "outputs": [],
   "source": [
    "def func(x, y, /, *, option1=None, option2=None):\n",
    "    print(x, y, option1, option2)"
   ]
  },
  {
   "cell_type": "code",
   "execution_count": null,
   "metadata": {},
   "outputs": [],
   "source": [
    "positional = [4, 8]\n",
    "key_value = {'option1': 15, 'option2': 16}"
   ]
  },
  {
   "cell_type": "code",
   "execution_count": null,
   "metadata": {},
   "outputs": [],
   "source": [
    "func(*positional, **key_value)"
   ]
  },
  {
   "cell_type": "code",
   "execution_count": null,
   "metadata": {},
   "outputs": [],
   "source": [
    "func(*positional, option1=3, **key_value)"
   ]
  },
  {
   "cell_type": "markdown",
   "metadata": {},
   "source": [
    "## О поддержке utf-8"
   ]
  },
  {
   "cell_type": "code",
   "execution_count": null,
   "metadata": {},
   "outputs": [],
   "source": [
    "def покажи(а):\n",
    "    print(а)\n",
    "\n",
    "делимое = 6\n",
    "делитель = 3\n",
    "\n",
    "частное = делимое / делитель\n",
    "\n",
    "покажи(частное)"
   ]
  },
  {
   "cell_type": "markdown",
   "metadata": {},
   "source": [
    "# Классы"
   ]
  },
  {
   "cell_type": "markdown",
   "metadata": {},
   "source": [
    "- Тип - контракт на набор значений и операций над ними\n",
    "- Класс  - конкретная реализация типа\n",
    "- Объект - экземпляр (instance) класса"
   ]
  },
  {
   "cell_type": "code",
   "execution_count": null,
   "metadata": {},
   "outputs": [],
   "source": [
    "class A:\n",
    "    def __init__(self):\n",
    "        self.x: int = 1     # Публичный\n",
    "        self._x: int = 2    # Приватный\n",
    "        self.__x: int = 3   # Супер приватный\n",
    "\n",
    "    def foo(self) -> str:   # Публичный\n",
    "        return \"foo\"\n",
    "\n",
    "    def _foo(self) -> str:  # Приватный\n",
    "        return \"_foo\"\n",
    "\n",
    "    def __foo(self) -> str: # Супер приватный\n",
    "        return \"__foo\"\n",
    "\n",
    "\n",
    "a = A()\n",
    "\n",
    "print(a.x)\n",
    "print(a._x)\n",
    "print(a._A__x)\n",
    "print(a.foo())\n",
    "print(a._foo())\n",
    "print(a._A__foo())"
   ]
  },
  {
   "cell_type": "code",
   "execution_count": null,
   "metadata": {},
   "outputs": [],
   "source": [
    "class A:\n",
    "    X = 10                       # Переменная класса\n",
    "\n",
    "    def __init__(self, x: int):  # Инициализация состояния инстанса self\n",
    "        self._x = x              # Переменная инстанса self\n",
    "\n",
    "    def foo(self) -> None:       # Метод класса\n",
    "        self._x += 1             # Обновление переменной инстанса self\n",
    "\n",
    "    @staticmethod                # Статический метод класса\n",
    "    def bar() -> str:            # ! Не передаем инстанс self\n",
    "        return \"bar\"\n",
    "\n",
    "    @classmethod                 # Класс-метод класса\n",
    "    def baz(cls: type) -> str:   # ! Вместо инстанса self передается класс cls\n",
    "        return cls.__name__\n",
    "\n",
    "    @property                    # Проперти-метод класса\n",
    "    def x(self) -> int:\n",
    "        return self._x\n",
    "\n",
    "    @x.setter                    # Сеттер-проперти метод класса\n",
    "    def x(self, x: int) -> None:\n",
    "        if not isinstance(x, int):\n",
    "            raise IndexError(\"Chel....\")\n",
    "        x += 1\n",
    "        self._x = x\n",
    "\n",
    "B = A"
   ]
  },
  {
   "cell_type": "code",
   "execution_count": null,
   "metadata": {},
   "outputs": [],
   "source": [
    "a = B(2)"
   ]
  },
  {
   "cell_type": "code",
   "execution_count": null,
   "metadata": {},
   "outputs": [],
   "source": [
    "a.x = 5"
   ]
  },
  {
   "cell_type": "code",
   "execution_count": null,
   "metadata": {},
   "outputs": [],
   "source": [
    "a.x"
   ]
  },
  {
   "cell_type": "code",
   "execution_count": null,
   "metadata": {},
   "outputs": [],
   "source": [
    "a = A()"
   ]
  },
  {
   "cell_type": "code",
   "execution_count": null,
   "metadata": {},
   "outputs": [],
   "source": [
    "a = A(1)\n",
    "a.x"
   ]
  },
  {
   "cell_type": "code",
   "execution_count": null,
   "metadata": {},
   "outputs": [],
   "source": [
    "a.x = 3"
   ]
  },
  {
   "cell_type": "code",
   "execution_count": null,
   "metadata": {},
   "outputs": [],
   "source": [
    "a.x"
   ]
  },
  {
   "cell_type": "markdown",
   "metadata": {},
   "source": [
    "# Enum"
   ]
  },
  {
   "cell_type": "code",
   "execution_count": null,
   "metadata": {},
   "outputs": [],
   "source": [
    "from enum import Enum\n",
    "\n",
    "\n",
    "class Colors(Enum):\n",
    "    Red = 0\n",
    "    Green = 1\n",
    "    Blue = 2\n",
    "\n",
    "\n",
    "class Size(Enum):\n",
    "    BIG = 'big'\n",
    "    SMALL = 'small'\n",
    "\n",
    "\n",
    "print(f'{Colors.Red!r}, {Colors.Red=}, {Colors.Red.name=}, {Colors.Red.value=}')\n",
    "print(f'{Size.BIG!r}, {Size.BIG=}, {Size.BIG.name=}, {Size.BIG.value=}')"
   ]
  },
  {
   "cell_type": "code",
   "execution_count": null,
   "metadata": {},
   "outputs": [],
   "source": [
    "from enum import Enum, auto\n",
    "\n",
    "\n",
    "class Color(Enum):\n",
    "    RED = auto()\n",
    "    GREEN = auto()\n",
    "    BLUE = auto()\n",
    "\n",
    "\n",
    "print([c.value for c in Color])"
   ]
  },
  {
   "cell_type": "code",
   "execution_count": null,
   "metadata": {},
   "outputs": [],
   "source": [
    "class AutoName(Enum):\n",
    "    @staticmethod\n",
    "    def _generate_next_value_(name, start, count, last_values):\n",
    "        return name\n",
    "\n",
    "\n",
    "class Ordinal(AutoName):\n",
    "    NORTH = auto()\n",
    "    SOUTH = auto()\n",
    "    EAST = auto()\n",
    "    WEST = auto()"
   ]
  },
  {
   "cell_type": "code",
   "execution_count": null,
   "metadata": {},
   "outputs": [],
   "source": [
    "[member.value for member in Ordinal]"
   ]
  },
  {
   "cell_type": "code",
   "execution_count": null,
   "metadata": {},
   "outputs": [],
   "source": [
    "from enum import IntEnum\n",
    "\n",
    "\n",
    "class MyIntEnum(IntEnum):\n",
    "    a = 1\n",
    "    b = 2"
   ]
  },
  {
   "cell_type": "code",
   "execution_count": null,
   "metadata": {},
   "outputs": [],
   "source": [
    "type(MyIntEnum.b.value)"
   ]
  },
  {
   "cell_type": "code",
   "execution_count": null,
   "metadata": {},
   "outputs": [],
   "source": [
    "MyIntEnum.a, MyIntEnum.b"
   ]
  },
  {
   "cell_type": "code",
   "execution_count": null,
   "metadata": {},
   "outputs": [],
   "source": [
    "class MyIntEnum(int, Enum):\n",
    "    a = 1\n",
    "    b = 2\n",
    "    c = \"12\""
   ]
  },
  {
   "cell_type": "code",
   "execution_count": null,
   "metadata": {},
   "outputs": [],
   "source": [
    "MyIntEnum.a, MyIntEnum.b, MyIntEnum.c"
   ]
  },
  {
   "cell_type": "markdown",
   "metadata": {},
   "source": [
    "# dataclass"
   ]
  },
  {
   "cell_type": "code",
   "execution_count": null,
   "metadata": {},
   "outputs": [],
   "source": [
    "import typing as tp\n",
    "from dataclasses import dataclass\n",
    "\n",
    "\n",
    "T = tp.TypeVar('T')\n",
    "\n",
    "\n",
    "@dataclass\n",
    "class Case(tp.Generic[T]):\n",
    "    name: str\n",
    "    result: T\n",
    "    expected: T\n",
    "\n",
    "\n",
    "c = Case(\"test1\", 2, 1)"
   ]
  },
  {
   "cell_type": "code",
   "execution_count": null,
   "metadata": {},
   "outputs": [],
   "source": [
    "import typing as tp\n",
    "from dataclasses import dataclass\n",
    "\n",
    "\n",
    "T = tp.TypeVar('T')\n",
    "\n",
    "\n",
    "# https://docs.python.org/3/library/dataclasses.html#dataclasses.dataclass\n",
    "@dataclass(init=True, repr=True, eq=True, order=False, unsafe_hash=False, frozen=False)\n",
    "class Case:\n",
    "    name: str\n",
    "    result: T\n",
    "    expected: T\n",
    "\n",
    "\n",
    "c = Case(\"test_name\", 2, 1)"
   ]
  },
  {
   "cell_type": "code",
   "execution_count": null,
   "metadata": {},
   "outputs": [],
   "source": [
    "from enum import Enum\n",
    "from dataclasses import dataclass\n",
    "\n",
    "\n",
    "class Marks(Enum):\n",
    "    TWO = 2\n",
    "    THREE = 3\n",
    "    FOUR = 4\n",
    "    FIVE = 5\n",
    "\n",
    "\n",
    "class Abilities(Enum):\n",
    "    SMART = 0\n",
    "    STRONG = 1\n",
    "    FUNNY = 2\n",
    "    ETC = 3\n",
    "\n",
    "\n",
    "@dataclass(frozen=True)\n",
    "class Student:\n",
    "    first_name: str\n",
    "    second_name: str\n",
    "    marks: list[Marks]\n",
    "    abilities: tuple[Abilities, ...]"
   ]
  },
  {
   "cell_type": "code",
   "execution_count": null,
   "metadata": {},
   "outputs": [],
   "source": [
    "s = Student(\"Luchsh\", \"Vanya\", [Marks.TWO], [Abilities.SMART])"
   ]
  },
  {
   "cell_type": "code",
   "execution_count": null,
   "metadata": {},
   "outputs": [],
   "source": [
    "s.second_name = \"sadas\""
   ]
  },
  {
   "cell_type": "markdown",
   "metadata": {},
   "source": [
    "Требуется реализовать датаклассы, со следующими требованиями:\n",
    "* **Item**:\n",
    "  * `title` является непустым, а `cost` положительной. Проверьте это с помощью `assert` сразу **после** инициализации\n",
    "  * Поля созданного объекта запрещено изменять.\n",
    "  * Предметы должны сравниваться по названию, а после по цене\n",
    "    (`item1 > item2` при `(title1, cost1) > (title2, cost2)`)\n",
    "* **Position**:\n",
    "  * Базовый класс для `CountedPosition` и `WeightedPosition`. Не может быть создан самостоятельно \n",
    "  * Хранит `item` \n",
    "  * Реализует абстрактное проперти `cost`, который может возвращать нецелое значение\n",
    "* **CountedPosition**:\n",
    "  * `Item.cost` - цена за единицу товара.\n",
    "  * По умолчанию количество товаров равно единице.\n",
    "* **WeightedPosition**:\n",
    "  * `Item.cost`- цена за единицу веса товара.\n",
    "  * По умолчанию вес товара равен единице.\n",
    "* **Order**:\n",
    "  * При создании получает набор позиций, а также флаг, была ли использована промо акция, при этом итоговая стоимость заказа уменьшается на заданное кол-во процентов. По этим данным заполняется поле `cost` (см. `InitVar`)\n",
    "  * Итоговая стоимость всегда целое число (оставляем только целую часть)\n"
   ]
  },
  {
   "cell_type": "code",
   "execution_count": null,
   "metadata": {},
   "outputs": [],
   "source": [
    "from dataclasses import (\n",
    "    dataclass,\n",
    "    field,\n",
    ")\n",
    "from abc import (\n",
    "    ABC,\n",
    "    abstractmethod,\n",
    ")\n",
    "\n",
    "\n",
    "DISCOUNT_PERCENTS = 15\n",
    "\n",
    "\n",
    "@dataclass(frozen=True, order=True)\n",
    "class Item:\n",
    "    item_id: int = field(compare=False)\n",
    "    title: str\n",
    "    cost: int\n",
    "\n",
    "    def __post_init__(self) -> None:\n",
    "        assert len(self.title) != 0 and self.cost > 0\n",
    "\n",
    "\n",
    "@dataclass    # type: ignore\n",
    "class Position(ABC):\n",
    "    item: Item\n",
    "\n",
    "    @abstractmethod\n",
    "    def cost(self) -> float:\n",
    "        return 0.\n",
    "\n",
    "\n",
    "@dataclass\n",
    "class CountedPosition(Position):\n",
    "    count: int = 1\n",
    "\n",
    "    @property\n",
    "    def cost(self) -> float:\n",
    "        return self.count * self.item.cost\n",
    "\n",
    "\n",
    "@dataclass\n",
    "class WeightedPosition(Position):\n",
    "    weight: float = 1.\n",
    "\n",
    "    @property\n",
    "    def cost(self) -> float:\n",
    "        return self.weight * self.item.cost\n",
    "\n",
    "\n",
    "\n",
    "@dataclass\n",
    "class Order:\n",
    "    order_id: int\n",
    "    positions: list[Position] = field(default_factory=list)\n",
    "    cost: int = field(init=False)\n",
    "    have_promo: bool = False\n",
    "\n",
    "    def __post_init__(self, have_promo: bool) -> None:\n",
    "        pos_sum: float = sum([getattr(p, 'cost') for p in self.positions])\n",
    "        if have_promo:\n",
    "            self.cost = int(pos_sum / 100 * (100 - DISCOUNT_PERCENTS))\n",
    "        else:\n",
    "            self.cost = int(pos_sum)\n"
   ]
  },
  {
   "cell_type": "markdown",
   "metadata": {},
   "source": []
  }
 ],
 "metadata": {
  "kernelspec": {
   "display_name": ".venv",
   "language": "python",
   "name": "python3"
  },
  "language_info": {
   "codemirror_mode": {
    "name": "ipython",
    "version": 3
   },
   "file_extension": ".py",
   "mimetype": "text/x-python",
   "name": "python",
   "nbconvert_exporter": "python",
   "pygments_lexer": "ipython3",
   "version": "3.13.5"
  },
  "orig_nbformat": 4
 },
 "nbformat": 4,
 "nbformat_minor": 2
}
