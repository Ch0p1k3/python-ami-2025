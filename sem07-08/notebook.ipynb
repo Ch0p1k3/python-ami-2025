{
 "cells": [
  {
   "cell_type": "markdown",
   "metadata": {},
   "source": [
    "# Классы"
   ]
  },
  {
   "cell_type": "markdown",
   "metadata": {},
   "source": [
    "- Тип - контракт на набор значений и операций над ними\n",
    "- Класс  - конкретная реализация типа\n",
    "- Объект - экземпляр (instance) класса"
   ]
  },
  {
   "cell_type": "code",
   "execution_count": null,
   "metadata": {},
   "outputs": [],
   "source": [
    "class A:\n",
    "    def __init__(self):\n",
    "        self.x: int = 1     # Публичный\n",
    "        self._x: int = 2    # Приватный\n",
    "        self.__x: int = 3   # Супер приватный\n",
    "\n",
    "    def foo(self) -> str:   # Публичный\n",
    "        return \"foo\"\n",
    "\n",
    "    def _foo(self) -> str:  # Приватный\n",
    "        return \"_foo\"\n",
    "\n",
    "    def __foo(self) -> str: # Супер приватный\n",
    "        return \"__foo\"\n",
    "\n",
    "\n",
    "a = A()\n",
    "\n",
    "print(a.x)\n",
    "print(a._x)\n",
    "print(a._A__x)\n",
    "print(a.foo())\n",
    "print(a._foo())\n",
    "print(a._A__foo())"
   ]
  },
  {
   "cell_type": "code",
   "execution_count": null,
   "metadata": {},
   "outputs": [],
   "source": [
    "class C:\n",
    "    def __init__(self, x: int):  # Инициализация состояния инстанса self\n",
    "        self._x = x              # Переменная инстанса self\n",
    "\n",
    "    @staticmethod\n",
    "    def from_list(lst: list[int]):\n",
    "        c = C(123)"
   ]
  },
  {
   "cell_type": "code",
   "execution_count": 42,
   "metadata": {},
   "outputs": [],
   "source": [
    "class A:\n",
    "    X = 10                       # Переменная класса\n",
    "\n",
    "    def __init__(self, x: int):  # Инициализация состояния инстанса self\n",
    "        self._x = x              # Переменная инстанса self\n",
    "\n",
    "    @classmethod\n",
    "    def from_list(cls, lst: list[int]):\n",
    "        a = cls(sum(lst))\n",
    "        return a\n",
    "\n",
    "    def foo(self) -> None:       # Метод класса\n",
    "        self._x += 1             # Обновление переменной инстанса self\n",
    "\n",
    "    @staticmethod                # Статический метод класса\n",
    "    def bar() -> str:            # ! Не передаем инстанс self\n",
    "        return \"bar\"\n",
    "\n",
    "    @classmethod                 # Класс-метод класса\n",
    "    def baz(cls: type) -> str:   # ! Вместо инстанса self передается класс cls\n",
    "        return cls.__name__\n",
    "\n",
    "    @property                    # Проперти-метод класса\n",
    "    def x(self) -> int:\n",
    "        return self._x\n",
    "\n",
    "    @x.setter                    # Сеттер-проперти метод класса\n",
    "    def x(self, x: int) -> None:\n",
    "        if not isinstance(x, int):\n",
    "            raise IndexError(\"Chel....\")\n",
    "        x += 1\n",
    "        self._x = x\n",
    "\n",
    "B = A"
   ]
  },
  {
   "cell_type": "code",
   "execution_count": 43,
   "metadata": {},
   "outputs": [],
   "source": [
    "a = A(2)"
   ]
  },
  {
   "cell_type": "code",
   "execution_count": 44,
   "metadata": {},
   "outputs": [
    {
     "data": {
      "text/plain": [
       "2"
      ]
     },
     "execution_count": 44,
     "metadata": {},
     "output_type": "execute_result"
    }
   ],
   "source": [
    "a.x"
   ]
  },
  {
   "cell_type": "code",
   "execution_count": 45,
   "metadata": {},
   "outputs": [
    {
     "ename": "IndexError",
     "evalue": "Chel....",
     "output_type": "error",
     "traceback": [
      "\u001b[31m---------------------------------------------------------------------------\u001b[39m",
      "\u001b[31mIndexError\u001b[39m                                Traceback (most recent call last)",
      "\u001b[36mCell\u001b[39m\u001b[36m \u001b[39m\u001b[32mIn[45]\u001b[39m\u001b[32m, line 1\u001b[39m\n\u001b[32m----> \u001b[39m\u001b[32m1\u001b[39m \u001b[43ma\u001b[49m\u001b[43m.\u001b[49m\u001b[43mx\u001b[49m = \u001b[32m2.3\u001b[39m\n",
      "\u001b[36mCell\u001b[39m\u001b[36m \u001b[39m\u001b[32mIn[42]\u001b[39m\u001b[32m, line 30\u001b[39m, in \u001b[36mA.x\u001b[39m\u001b[34m(self, x)\u001b[39m\n\u001b[32m     27\u001b[39m \u001b[38;5;129m@x\u001b[39m.setter                    \u001b[38;5;66;03m# Сеттер-проперти метод класса\u001b[39;00m\n\u001b[32m     28\u001b[39m \u001b[38;5;28;01mdef\u001b[39;00m\u001b[38;5;250m \u001b[39m\u001b[34mx\u001b[39m(\u001b[38;5;28mself\u001b[39m, x: \u001b[38;5;28mint\u001b[39m) -> \u001b[38;5;28;01mNone\u001b[39;00m:\n\u001b[32m     29\u001b[39m     \u001b[38;5;28;01mif\u001b[39;00m \u001b[38;5;129;01mnot\u001b[39;00m \u001b[38;5;28misinstance\u001b[39m(x, \u001b[38;5;28mint\u001b[39m):\n\u001b[32m---> \u001b[39m\u001b[32m30\u001b[39m         \u001b[38;5;28;01mraise\u001b[39;00m \u001b[38;5;167;01mIndexError\u001b[39;00m(\u001b[33m\"\u001b[39m\u001b[33mChel....\u001b[39m\u001b[33m\"\u001b[39m)\n\u001b[32m     31\u001b[39m     x += \u001b[32m1\u001b[39m\n\u001b[32m     32\u001b[39m     \u001b[38;5;28mself\u001b[39m._x = x\n",
      "\u001b[31mIndexError\u001b[39m: Chel...."
     ]
    }
   ],
   "source": [
    "a.x = 2.3"
   ]
  },
  {
   "cell_type": "code",
   "execution_count": 29,
   "metadata": {},
   "outputs": [
    {
     "data": {
      "text/plain": [
       "('bar', 'A')"
      ]
     },
     "execution_count": 29,
     "metadata": {},
     "output_type": "execute_result"
    }
   ],
   "source": [
    "A.bar(), A.baz()"
   ]
  },
  {
   "cell_type": "code",
   "execution_count": 31,
   "metadata": {},
   "outputs": [],
   "source": [
    "a = A(1)"
   ]
  },
  {
   "cell_type": "code",
   "execution_count": null,
   "metadata": {},
   "outputs": [
    {
     "data": {
      "text/plain": [
       "'bar'"
      ]
     },
     "execution_count": 32,
     "metadata": {},
     "output_type": "execute_result"
    }
   ],
   "source": [
    "a.bar()"
   ]
  },
  {
   "cell_type": "code",
   "execution_count": 33,
   "metadata": {},
   "outputs": [
    {
     "data": {
      "text/plain": [
       "'A'"
      ]
     },
     "execution_count": 33,
     "metadata": {},
     "output_type": "execute_result"
    }
   ],
   "source": [
    "a.baz()"
   ]
  },
  {
   "cell_type": "code",
   "execution_count": 27,
   "metadata": {},
   "outputs": [],
   "source": [
    "a = A.from_list([1, 2, 3])"
   ]
  },
  {
   "cell_type": "code",
   "execution_count": 28,
   "metadata": {},
   "outputs": [
    {
     "name": "stdout",
     "output_type": "stream",
     "text": [
      "6\n"
     ]
    }
   ],
   "source": [
    "print(a.x)"
   ]
  },
  {
   "cell_type": "code",
   "execution_count": null,
   "metadata": {},
   "outputs": [],
   "source": [
    "a = B(2)"
   ]
  },
  {
   "cell_type": "code",
   "execution_count": null,
   "metadata": {},
   "outputs": [],
   "source": [
    "a.x = 5"
   ]
  },
  {
   "cell_type": "code",
   "execution_count": null,
   "metadata": {},
   "outputs": [],
   "source": [
    "a.x"
   ]
  },
  {
   "cell_type": "code",
   "execution_count": null,
   "metadata": {},
   "outputs": [],
   "source": [
    "a = A()"
   ]
  },
  {
   "cell_type": "code",
   "execution_count": null,
   "metadata": {},
   "outputs": [],
   "source": [
    "a = A(1)\n",
    "a.x"
   ]
  },
  {
   "cell_type": "code",
   "execution_count": null,
   "metadata": {},
   "outputs": [],
   "source": [
    "a.x = 3"
   ]
  },
  {
   "cell_type": "code",
   "execution_count": null,
   "metadata": {},
   "outputs": [],
   "source": [
    "a.x"
   ]
  },
  {
   "cell_type": "code",
   "execution_count": null,
   "metadata": {},
   "outputs": [],
   "source": [
    "a = A(1)\n",
    "\n",
    "a.foo(), A.foo(a)"
   ]
  },
  {
   "cell_type": "code",
   "execution_count": null,
   "metadata": {},
   "outputs": [],
   "source": [
    "A.X\n",
    "A.X += 1\n",
    "A.X"
   ]
  },
  {
   "cell_type": "code",
   "execution_count": null,
   "metadata": {},
   "outputs": [],
   "source": [
    "a = A(1)\n",
    "a._x"
   ]
  },
  {
   "cell_type": "code",
   "execution_count": null,
   "metadata": {},
   "outputs": [],
   "source": [
    "a.X += 1\n",
    "a.X"
   ]
  },
  {
   "cell_type": "code",
   "execution_count": null,
   "metadata": {},
   "outputs": [],
   "source": [
    "A.X"
   ]
  },
  {
   "cell_type": "code",
   "execution_count": 19,
   "metadata": {},
   "outputs": [
    {
     "data": {
      "text/plain": [
       "('bar', 'A')"
      ]
     },
     "execution_count": 19,
     "metadata": {},
     "output_type": "execute_result"
    }
   ],
   "source": [
    "A.bar(), A.baz()"
   ]
  },
  {
   "cell_type": "code",
   "execution_count": 20,
   "metadata": {},
   "outputs": [
    {
     "data": {
      "text/plain": [
       "'bar'"
      ]
     },
     "execution_count": 20,
     "metadata": {},
     "output_type": "execute_result"
    }
   ],
   "source": [
    "a = A(1)\n",
    "\n",
    "a.bar()"
   ]
  },
  {
   "cell_type": "code",
   "execution_count": null,
   "metadata": {},
   "outputs": [],
   "source": [
    "class A:\n",
    "    pass\n",
    "\n",
    "\n",
    "a = A()\n",
    "a.x = 10\n",
    "a.x"
   ]
  },
  {
   "cell_type": "code",
   "execution_count": 1,
   "metadata": {},
   "outputs": [
    {
     "name": "stdout",
     "output_type": "stream",
     "text": [
      "<Colors.Red: 0>, Colors.Red=<Colors.Red: 0>, Colors.Red.name='Red', Colors.Red.value=0\n",
      "<Size.BIG: 'big'>, Size.BIG=<Size.BIG: 'big'>, Size.BIG.name='BIG', Size.BIG.value='big'\n"
     ]
    }
   ],
   "source": [
    "from enum import Enum\n",
    "\n",
    "class Colors(Enum):\n",
    "    Red = 0\n",
    "    Green = 1\n",
    "    Blue = 2\n",
    "\n",
    "\n",
    "class Size(Enum):\n",
    "    BIG = 'big'\n",
    "    SMALL = 'small'\n",
    "\n",
    "\n",
    "print(f'{Colors.Red!r}, {Colors.Red=}, {Colors.Red.name=}, {Colors.Red.value=}')\n",
    "print(f'{Size.BIG!r}, {Size.BIG=}, {Size.BIG.name=}, {Size.BIG.value=}')"
   ]
  },
  {
   "cell_type": "code",
   "execution_count": null,
   "metadata": {},
   "outputs": [],
   "source": []
  },
  {
   "cell_type": "code",
   "execution_count": 4,
   "metadata": {},
   "outputs": [
    {
     "name": "stdout",
     "output_type": "stream",
     "text": [
      "[1, 2, 3]\n",
      "[1, 2]\n"
     ]
    }
   ],
   "source": [
    "from enum import Enum, auto\n",
    "class Color(Enum):\n",
    "    RED = auto()\n",
    "    GREEN = auto()\n",
    "    BLUE = auto()\n",
    "\n",
    "\n",
    "class Size(Enum):\n",
    "    BIG = auto()\n",
    "    SMALL = auto()\n",
    "\n",
    "print([c.value for c in Color])\n",
    "print([c.value for c in Size])"
   ]
  },
  {
   "cell_type": "code",
   "execution_count": null,
   "metadata": {},
   "outputs": [],
   "source": [
    "class AutoName(Enum):\n",
    "    @staticmethod\n",
    "    def _generate_next_value_(name, start, count, last_values):\n",
    "        return name\n",
    "\n",
    "class Ordinal(Enum):\n",
    "    NORTH = auto()\n",
    "    SOUTH = auto()\n",
    "    EAST = auto()\n",
    "    WEST = auto()"
   ]
  },
  {
   "cell_type": "code",
   "execution_count": 6,
   "metadata": {},
   "outputs": [
    {
     "data": {
      "text/plain": [
       "['NORTH', 'SOUTH', 'EAST', 'WEST']"
      ]
     },
     "execution_count": 6,
     "metadata": {},
     "output_type": "execute_result"
    }
   ],
   "source": [
    "[member.value for member in Ordinal]"
   ]
  },
  {
   "cell_type": "code",
   "execution_count": 7,
   "metadata": {},
   "outputs": [],
   "source": [
    "from enum import IntEnum\n",
    "\n",
    "class MyIntEnum(IntEnum):\n",
    "    a = 1\n",
    "    b = 2"
   ]
  },
  {
   "cell_type": "code",
   "execution_count": 8,
   "metadata": {},
   "outputs": [
    {
     "data": {
      "text/plain": [
       "int"
      ]
     },
     "execution_count": 8,
     "metadata": {},
     "output_type": "execute_result"
    }
   ],
   "source": [
    "type(MyIntEnum.b.value)"
   ]
  },
  {
   "cell_type": "code",
   "execution_count": 9,
   "metadata": {},
   "outputs": [
    {
     "data": {
      "text/plain": [
       "(<MyIntEnum.a: 1>, <MyIntEnum.b: 2>)"
      ]
     },
     "execution_count": 9,
     "metadata": {},
     "output_type": "execute_result"
    }
   ],
   "source": [
    "MyIntEnum.a, MyIntEnum.b"
   ]
  },
  {
   "cell_type": "code",
   "execution_count": 10,
   "metadata": {},
   "outputs": [],
   "source": [
    "class MyIntEnum(int, Enum):\n",
    "    a = 1\n",
    "    b = 2\n",
    "    c = \"12\""
   ]
  },
  {
   "cell_type": "code",
   "execution_count": 12,
   "metadata": {},
   "outputs": [
    {
     "data": {
      "text/plain": [
       "(<MyIntEnum.a: 1>, <MyIntEnum.b: 2>, <MyIntEnum.c: 12>)"
      ]
     },
     "execution_count": 12,
     "metadata": {},
     "output_type": "execute_result"
    }
   ],
   "source": [
    "MyIntEnum.a, MyIntEnum.b, MyIntEnum.c"
   ]
  },
  {
   "cell_type": "code",
   "execution_count": 15,
   "metadata": {},
   "outputs": [
    {
     "ename": "ValueError",
     "evalue": "invalid literal for int() with base 10: 'a'",
     "output_type": "error",
     "traceback": [
      "\u001b[31m---------------------------------------------------------------------------\u001b[39m",
      "\u001b[31mValueError\u001b[39m                                Traceback (most recent call last)",
      "\u001b[36mCell\u001b[39m\u001b[36m \u001b[39m\u001b[32mIn[15]\u001b[39m\u001b[32m, line 1\u001b[39m\n\u001b[32m----> \u001b[39m\u001b[32m1\u001b[39m \u001b[38;5;28;43;01mclass\u001b[39;49;00m\u001b[38;5;250;43m \u001b[39;49m\u001b[34;43;01mMyIntEnum\u001b[39;49;00m\u001b[43m(\u001b[49m\u001b[38;5;28;43mint\u001b[39;49m\u001b[43m,\u001b[49m\u001b[43m \u001b[49m\u001b[43mEnum\u001b[49m\u001b[43m)\u001b[49m\u001b[43m:\u001b[49m\n\u001b[32m      2\u001b[39m \u001b[43m    \u001b[49m\u001b[43ma\u001b[49m\u001b[43m \u001b[49m\u001b[43m=\u001b[49m\u001b[43m \u001b[49m\u001b[33;43m'\u001b[39;49m\u001b[33;43ma\u001b[39;49m\u001b[33;43m'\u001b[39;49m\n\u001b[32m      3\u001b[39m \u001b[43m    \u001b[49m\u001b[43mb\u001b[49m\u001b[43m \u001b[49m\u001b[43m=\u001b[49m\u001b[43m \u001b[49m\u001b[33;43m'\u001b[39;49m\u001b[33;43mb\u001b[39;49m\u001b[33;43m'\u001b[39;49m\n",
      "\u001b[36mFile \u001b[39m\u001b[32m/opt/homebrew/Cellar/python@3.13/3.13.5/Frameworks/Python.framework/Versions/3.13/lib/python3.13/enum.py:568\u001b[39m, in \u001b[36mEnumType.__new__\u001b[39m\u001b[34m(metacls, cls, bases, classdict, boundary, _simple, **kwds)\u001b[39m\n\u001b[32m    566\u001b[39m \u001b[38;5;28;01mtry\u001b[39;00m:\n\u001b[32m    567\u001b[39m     classdict[\u001b[33m'\u001b[39m\u001b[33m_\u001b[39m\u001b[38;5;132;01m%s\u001b[39;00m\u001b[33m__in_progress\u001b[39m\u001b[33m'\u001b[39m % \u001b[38;5;28mcls\u001b[39m] = \u001b[38;5;28;01mTrue\u001b[39;00m\n\u001b[32m--> \u001b[39m\u001b[32m568\u001b[39m     enum_class = \u001b[38;5;28;43msuper\u001b[39;49m\u001b[43m(\u001b[49m\u001b[43m)\u001b[49m\u001b[43m.\u001b[49m\u001b[34;43m__new__\u001b[39;49m\u001b[43m(\u001b[49m\u001b[43mmetacls\u001b[49m\u001b[43m,\u001b[49m\u001b[43m \u001b[49m\u001b[38;5;28;43mcls\u001b[39;49m\u001b[43m,\u001b[49m\u001b[43m \u001b[49m\u001b[43mbases\u001b[49m\u001b[43m,\u001b[49m\u001b[43m \u001b[49m\u001b[43mclassdict\u001b[49m\u001b[43m,\u001b[49m\u001b[43m \u001b[49m\u001b[43m*\u001b[49m\u001b[43m*\u001b[49m\u001b[43mkwds\u001b[49m\u001b[43m)\u001b[49m\n\u001b[32m    569\u001b[39m     classdict[\u001b[33m'\u001b[39m\u001b[33m_\u001b[39m\u001b[38;5;132;01m%s\u001b[39;00m\u001b[33m__in_progress\u001b[39m\u001b[33m'\u001b[39m % \u001b[38;5;28mcls\u001b[39m] = \u001b[38;5;28;01mFalse\u001b[39;00m\n\u001b[32m    570\u001b[39m     \u001b[38;5;28mdelattr\u001b[39m(enum_class, \u001b[33m'\u001b[39m\u001b[33m_\u001b[39m\u001b[38;5;132;01m%s\u001b[39;00m\u001b[33m__in_progress\u001b[39m\u001b[33m'\u001b[39m % \u001b[38;5;28mcls\u001b[39m)\n",
      "\u001b[36mFile \u001b[39m\u001b[32m/opt/homebrew/Cellar/python@3.13/3.13.5/Frameworks/Python.framework/Versions/3.13/lib/python3.13/enum.py:268\u001b[39m, in \u001b[36m_proto_member.__set_name__\u001b[39m\u001b[34m(self, enum_class, member_name)\u001b[39m\n\u001b[32m    266\u001b[39m     enum_member = enum_class._new_member_(enum_class)\n\u001b[32m    267\u001b[39m \u001b[38;5;28;01melse\u001b[39;00m:\n\u001b[32m--> \u001b[39m\u001b[32m268\u001b[39m     enum_member = \u001b[43menum_class\u001b[49m\u001b[43m.\u001b[49m\u001b[43m_new_member_\u001b[49m\u001b[43m(\u001b[49m\u001b[43menum_class\u001b[49m\u001b[43m,\u001b[49m\u001b[43m \u001b[49m\u001b[43m*\u001b[49m\u001b[43margs\u001b[49m\u001b[43m)\u001b[49m\n\u001b[32m    269\u001b[39m \u001b[38;5;28;01mif\u001b[39;00m \u001b[38;5;129;01mnot\u001b[39;00m \u001b[38;5;28mhasattr\u001b[39m(enum_member, \u001b[33m'\u001b[39m\u001b[33m_value_\u001b[39m\u001b[33m'\u001b[39m):\n\u001b[32m    270\u001b[39m     \u001b[38;5;28;01mif\u001b[39;00m enum_class._member_type_ \u001b[38;5;129;01mis\u001b[39;00m \u001b[38;5;28mobject\u001b[39m:\n",
      "\u001b[31mValueError\u001b[39m: invalid literal for int() with base 10: 'a'"
     ]
    }
   ],
   "source": [
    "class MyIntEnum(int, Enum):\n",
    "    a = 'a'\n",
    "    b = 'b'\n",
    "    c = 'c'"
   ]
  },
  {
   "cell_type": "code",
   "execution_count": 14,
   "metadata": {},
   "outputs": [
    {
     "data": {
      "text/plain": [
       "(<MyIntEnum.a: 1>, <MyIntEnum.b: 2>, <MyIntEnum.c: '12'>)"
      ]
     },
     "execution_count": 14,
     "metadata": {},
     "output_type": "execute_result"
    }
   ],
   "source": [
    "MyIntEnum.a, MyIntEnum.b, MyIntEnum.c"
   ]
  },
  {
   "cell_type": "markdown",
   "metadata": {},
   "source": [
    "## ABC"
   ]
  },
  {
   "cell_type": "markdown",
   "metadata": {},
   "source": [
    "https://docs.python.org/3/library/abc.html"
   ]
  },
  {
   "cell_type": "code",
   "execution_count": null,
   "metadata": {},
   "outputs": [],
   "source": [
    "import abc\n",
    "\n",
    "\n",
    "class Shape(abc.ABC):\n",
    "    @abc.abstractmethod\n",
    "    def area (self):\n",
    "        ..."
   ]
  },
  {
   "cell_type": "code",
   "execution_count": null,
   "metadata": {},
   "outputs": [],
   "source": [
    "class Rectangle(Shape):\n",
    "    def __init__(self, width, height):\n",
    "        self._width = width\n",
    "        self._height = height\n",
    "\n",
    "    def area(self):\n",
    "        return self.width * self.height\n",
    "\n",
    "\n",
    "class Square(Rectangle):\n",
    "    def __init__(self, side):\n",
    "        self._width = side\n",
    "        self._height = side"
   ]
  },
  {
   "cell_type": "code",
   "execution_count": null,
   "metadata": {},
   "outputs": [],
   "source": [
    "class Circle(Shape):\n",
    "    def __init__(self, radius):\n",
    "        self.radius = radius\n",
    "\n",
    "    def area(self):\n",
    "        return self.radius * self.radius * 3.14"
   ]
  },
  {
   "cell_type": "markdown",
   "metadata": {},
   "source": [
    "## collections.abc"
   ]
  },
  {
   "cell_type": "markdown",
   "metadata": {},
   "source": [
    "https://docs.python.org/3/library/collections.abc.html#module-collections.abc"
   ]
  },
  {
   "cell_type": "markdown",
   "metadata": {},
   "source": [
    "# dataclass"
   ]
  },
  {
   "cell_type": "code",
   "execution_count": 48,
   "metadata": {},
   "outputs": [
    {
     "data": {
      "text/plain": [
       "1"
      ]
     },
     "execution_count": 48,
     "metadata": {},
     "output_type": "execute_result"
    }
   ],
   "source": [
    "import typing as tp\n",
    "from dataclasses import dataclass\n",
    "\n",
    "\n",
    "T = tp.TypeVar('T')\n",
    "\n",
    "\n",
    "class Case(tp.Generic[T]):\n",
    "    name: str\n",
    "    result: T\n",
    "    expected: T\n",
    "\n",
    "    def __init__(\n",
    "        self,\n",
    "        name: str,\n",
    "        result: T,\n",
    "        expected: T,\n",
    "    ):\n",
    "        self.name = name\n",
    "        self.result = result\n",
    "        self.expected = expected\n",
    "\n",
    "\n",
    "c = Case(\"test1\", 2, 1)\n",
    "\n",
    "c.expected"
   ]
  },
  {
   "cell_type": "code",
   "execution_count": 47,
   "metadata": {},
   "outputs": [],
   "source": [
    "c.expected = 2"
   ]
  },
  {
   "cell_type": "code",
   "execution_count": null,
   "metadata": {},
   "outputs": [],
   "source": [
    "import typing as tp\n",
    "from dataclasses import dataclass\n",
    "\n",
    "\n",
    "T = tp.TypeVar('T')\n",
    "\n",
    "\n",
    "# https://docs.python.org/3/library/dataclasses.html#dataclasses.dataclass\n",
    "@dataclass(init=True, repr=True, eq=True, order=False, unsafe_hash=False, frozen=False)\n",
    "class Case:\n",
    "    name: str\n",
    "    result: T\n",
    "    expected: T\n",
    "\n",
    "\n",
    "c = Case(\"test_name\", 2, 1)"
   ]
  },
  {
   "cell_type": "code",
   "execution_count": null,
   "metadata": {},
   "outputs": [],
   "source": [
    "from enum import Enum\n",
    "from dataclasses import dataclass\n",
    "\n",
    "\n",
    "class Marks(Enum):\n",
    "    TWO = 2\n",
    "    THREE = 3\n",
    "    FOUR = 4\n",
    "    FIVE = 5\n",
    "\n",
    "\n",
    "class Abilities(Enum):\n",
    "    SMART = 0\n",
    "    STRONG = 1\n",
    "    FUNNY = 2\n",
    "    ETC = 3\n",
    "\n",
    "\n",
    "@dataclass(frozen=True, kw_only=True, )\n",
    "class Student:\n",
    "    first_name: str\n",
    "    second_name: str\n",
    "    marks: list[Marks]\n",
    "    abilities: tuple[Abilities, ...]"
   ]
  },
  {
   "cell_type": "code",
   "execution_count": 57,
   "metadata": {},
   "outputs": [],
   "source": [
    "s = Student(first_name=\"Luchsh\", second_name=\"Vanya\", marks=[Marks.TWO], abilities=[Abilities.SMART])"
   ]
  },
  {
   "cell_type": "code",
   "execution_count": 58,
   "metadata": {},
   "outputs": [
    {
     "ename": "FrozenInstanceError",
     "evalue": "cannot assign to field 'second_name'",
     "output_type": "error",
     "traceback": [
      "\u001b[31m---------------------------------------------------------------------------\u001b[39m",
      "\u001b[31mFrozenInstanceError\u001b[39m                       Traceback (most recent call last)",
      "\u001b[36mCell\u001b[39m\u001b[36m \u001b[39m\u001b[32mIn[58]\u001b[39m\u001b[32m, line 1\u001b[39m\n\u001b[32m----> \u001b[39m\u001b[32m1\u001b[39m \u001b[43ms\u001b[49m\u001b[43m.\u001b[49m\u001b[43msecond_name\u001b[49m = \u001b[33m\"\u001b[39m\u001b[33msadas\u001b[39m\u001b[33m\"\u001b[39m\n",
      "\u001b[36mFile \u001b[39m\u001b[32m<string>:18\u001b[39m, in \u001b[36m__setattr__\u001b[39m\u001b[34m(self, name, value)\u001b[39m\n",
      "\u001b[31mFrozenInstanceError\u001b[39m: cannot assign to field 'second_name'"
     ]
    }
   ],
   "source": [
    "s.second_name = \"sadas\""
   ]
  },
  {
   "cell_type": "code",
   "execution_count": 52,
   "metadata": {},
   "outputs": [
    {
     "data": {
      "text/plain": [
       "'Vanya'"
      ]
     },
     "execution_count": 52,
     "metadata": {},
     "output_type": "execute_result"
    }
   ],
   "source": [
    "s.second_name"
   ]
  },
  {
   "cell_type": "code",
   "execution_count": null,
   "metadata": {},
   "outputs": [],
   "source": []
  },
  {
   "cell_type": "markdown",
   "metadata": {},
   "source": [
    "Требуется реализовать датаклассы, со следующими требованиями:\n",
    "* **Item**:\n",
    "  * `title` является непустым, а `cost` положительной. Проверьте это с помощью `assert` сразу **после** инициализации\n",
    "  * Поля созданного объекта запрещено изменять.\n",
    "  * Предметы должны сравниваться по названию, а после по цене\n",
    "    (`item1 > item2` при `(title1, cost1) > (title2, cost2)`)\n",
    "* **Position**:\n",
    "  * Базовый класс для `CountedPosition` и `WeightedPosition`. Не может быть создан самостоятельно \n",
    "  * Хранит `item` \n",
    "  * Реализует абстрактное проперти `cost`, который может возвращать нецелое значение\n",
    "* **CountedPosition**:\n",
    "  * `Item.cost` - цена за единицу товара.\n",
    "  * По умолчанию количество товаров равно единице.\n",
    "* **WeightedPosition**:\n",
    "  * `Item.cost`- цена за единицу веса товара.\n",
    "  * По умолчанию вес товара равен единице.\n",
    "* **Order**:\n",
    "  * При создании получает набор позиций, а также флаг, была ли использована промо акция, при этом итоговая стоимость заказа уменьшается на заданное кол-во процентов. По этим данным заполняется поле `cost` (см. `InitVar`)\n",
    "  * Итоговая стоимость всегда целое число (оставляем только целую часть)\n"
   ]
  },
  {
   "cell_type": "code",
   "execution_count": null,
   "metadata": {},
   "outputs": [],
   "source": [
    "from dataclasses import (\n",
    "    dataclass,\n",
    "    field,\n",
    ")\n",
    "from abc import (\n",
    "    ABC,\n",
    "    abstractmethod,\n",
    ")\n",
    "\n",
    "\n",
    "DISCOUNT_PERCENTS = 15\n",
    "\n",
    "\n",
    "@dataclass(frozen=True, order=True)\n",
    "class Item:\n",
    "    item_id: int = field(compare=False)\n",
    "    title: str\n",
    "    cost: int\n",
    "\n",
    "    def __post_init__(self) -> None:\n",
    "        assert len(self.title) != 0 and self.cost > 0\n",
    "\n",
    "\n",
    "@dataclass    # type: ignore\n",
    "class Position(ABC):\n",
    "    item: Item\n",
    "\n",
    "    @abstractmethod\n",
    "    def cost(self) -> float:\n",
    "        return 0.\n",
    "\n",
    "\n",
    "@dataclass\n",
    "class CountedPosition(Position):\n",
    "    count: int = 1\n",
    "\n",
    "    @property\n",
    "    def cost(self) -> float:\n",
    "        return self.count * self.item.cost\n",
    "\n",
    "\n",
    "@dataclass\n",
    "class WeightedPosition(Position):\n",
    "    weight: float = 1.\n",
    "\n",
    "    @property\n",
    "    def cost(self) -> float:\n",
    "        return self.weight * self.item.cost\n",
    "\n",
    "\n",
    "\n",
    "@dataclass\n",
    "class Order:\n",
    "    order_id: int\n",
    "    positions: list[Position] = field(default_factory=list)\n",
    "    cost: int = field(init=False)\n",
    "    have_promo: bool = False\n",
    "\n",
    "    def __post_init__(self, have_promo: bool) -> None:\n",
    "        pos_sum: float = sum([getattr(p, 'cost') for p in self.positions])\n",
    "        if have_promo:\n",
    "            self.cost = int(pos_sum / 100 * (100 - DISCOUNT_PERCENTS))\n",
    "        else:\n",
    "            self.cost = int(pos_sum)\n"
   ]
  },
  {
   "cell_type": "code",
   "execution_count": 78,
   "metadata": {},
   "outputs": [
    {
     "ename": "AttributeError",
     "evalue": "property 'var' of 'Foo' object has no setter",
     "output_type": "error",
     "traceback": [
      "\u001b[31m---------------------------------------------------------------------------\u001b[39m",
      "\u001b[31mAttributeError\u001b[39m                            Traceback (most recent call last)",
      "\u001b[36mCell\u001b[39m\u001b[36m \u001b[39m\u001b[32mIn[78]\u001b[39m\u001b[32m, line 14\u001b[39m\n\u001b[32m      8\u001b[39m         \u001b[38;5;28;01mreturn\u001b[39;00m \u001b[38;5;28mself\u001b[39m._var\n\u001b[32m     13\u001b[39m foo = Foo()\n\u001b[32m---> \u001b[39m\u001b[32m14\u001b[39m \u001b[43mfoo\u001b[49m\u001b[43m.\u001b[49m\u001b[43mvar\u001b[49m = \u001b[32m3\u001b[39m\n",
      "\u001b[31mAttributeError\u001b[39m: property 'var' of 'Foo' object has no setter"
     ]
    }
   ],
   "source": [
    "class Foo:\n",
    "    def __init__(self, arg = 3):\n",
    "        self._var = arg\n",
    "\n",
    "    @property\n",
    "    def var(self):\n",
    "        self._var += 1\n",
    "        return self._var\n",
    "\n",
    "\n",
    "\n",
    "\n",
    "foo = Foo()\n",
    "foo.var = 3"
   ]
  },
  {
   "cell_type": "code",
   "execution_count": 64,
   "metadata": {},
   "outputs": [
    {
     "name": "stdout",
     "output_type": "stream",
     "text": [
      "self._a=13\n"
     ]
    },
    {
     "data": {
      "text/plain": [
       "13"
      ]
     },
     "execution_count": 64,
     "metadata": {},
     "output_type": "execute_result"
    }
   ],
   "source": [
    "class A:\n",
    "    def __init__(self, a: int):\n",
    "        self._a = a\n",
    "\n",
    "\n",
    "class B(A):\n",
    "    def __init__(self, a: int):\n",
    "        super().__init__(a)\n",
    "        print(f\"{self._a=}\")\n",
    "\n",
    "\n",
    "a: A = B(13)\n",
    "\n",
    "a._a"
   ]
  },
  {
   "cell_type": "markdown",
   "metadata": {},
   "source": [
    "## Исключения"
   ]
  },
  {
   "cell_type": "markdown",
   "metadata": {},
   "source": [
    "```\n",
    "BaseException\n",
    " ├── BaseExceptionGroup\n",
    " ├── GeneratorExit\n",
    " ├── KeyboardInterrupt\n",
    " ├── SystemExit\n",
    " └── Exception\n",
    "      ├── ArithmeticError\n",
    "      │    ├── FloatingPointError\n",
    "      │    ├── OverflowError\n",
    "      │    └── ZeroDivisionError\n",
    "      ├── AssertionError\n",
    "      ├── AttributeError\n",
    "      ├── BufferError\n",
    "      ├── EOFError\n",
    "      ├── ExceptionGroup [BaseExceptionGroup]\n",
    "      ├── ImportError\n",
    "      │    └── ModuleNotFoundError\n",
    "      ├── LookupError\n",
    "      │    ├── IndexError\n",
    "      │    └── KeyError\n",
    "      ├── MemoryError\n",
    "      ├── NameError\n",
    "      │    └── UnboundLocalError\n",
    "      ├── OSError\n",
    "      │    ├── BlockingIOError\n",
    "      │    ├── ChildProcessError\n",
    "      │    ├── ConnectionError\n",
    "      │    │    ├── BrokenPipeError\n",
    "      │    │    ├── ConnectionAbortedError\n",
    "      │    │    ├── ConnectionRefusedError\n",
    "      │    │    └── ConnectionResetError\n",
    "      │    ├── FileExistsError\n",
    "      │    ├── FileNotFoundError\n",
    "      │    ├── InterruptedError\n",
    "      │    ├── IsADirectoryError\n",
    "      │    ├── NotADirectoryError\n",
    "      │    ├── PermissionError\n",
    "      │    ├── ProcessLookupError\n",
    "      │    └── TimeoutError\n",
    "      ├── ReferenceError\n",
    "      ├── RuntimeError\n",
    "      │    ├── NotImplementedError\n",
    "      │    └── RecursionError\n",
    "      ├── StopAsyncIteration\n",
    "      ├── StopIteration\n",
    "      ├── SyntaxError\n",
    "      │    └── IndentationError\n",
    "      │         └── TabError\n",
    "      ├── SystemError\n",
    "      ├── TypeError\n",
    "      ├── ValueError\n",
    "      │    └── UnicodeError\n",
    "      │         ├── UnicodeDecodeError\n",
    "      │         ├── UnicodeEncodeError\n",
    "      │         └── UnicodeTranslateError\n",
    "      └── Warning\n",
    "           ├── BytesWarning\n",
    "           ├── DeprecationWarning\n",
    "           ├── EncodingWarning\n",
    "           ├── FutureWarning\n",
    "           ├── ImportWarning\n",
    "           ├── PendingDeprecationWarning\n",
    "           ├── ResourceWarning\n",
    "           ├── RuntimeWarning\n",
    "           ├── SyntaxWarning\n",
    "           ├── UnicodeWarning\n",
    "           └── UserWarning\n",
    "```"
   ]
  },
  {
   "cell_type": "code",
   "execution_count": null,
   "metadata": {},
   "outputs": [],
   "source": [
    "class MyException(Exception):\n",
    "    def my_method(self):\n",
    "        return self.args"
   ]
  },
  {
   "cell_type": "code",
   "execution_count": null,
   "metadata": {},
   "outputs": [],
   "source": [
    "try:\n",
    "    raise Exception(1, 2, 3)\n",
    "except Exception:\n",
    "    print(\"hey\")"
   ]
  },
  {
   "cell_type": "code",
   "execution_count": null,
   "metadata": {},
   "outputs": [],
   "source": [
    "raise 42"
   ]
  },
  {
   "cell_type": "code",
   "execution_count": null,
   "metadata": {},
   "outputs": [],
   "source": [
    "raise Exception(\"42\")"
   ]
  },
  {
   "cell_type": "code",
   "execution_count": null,
   "metadata": {},
   "outputs": [],
   "source": [
    "try:\n",
    "    raise Exception(\"42\")\n",
    "except Exception as e:\n",
    "    print(\"Catched!\", e)"
   ]
  },
  {
   "cell_type": "code",
   "execution_count": null,
   "metadata": {},
   "outputs": [],
   "source": [
    "try:\n",
    "    asd()\n",
    "except Exception as e:\n",
    "    print(e)"
   ]
  },
  {
   "cell_type": "markdown",
   "metadata": {},
   "source": [
    "# Контекстные менеджеры"
   ]
  },
  {
   "cell_type": "markdown",
   "metadata": {},
   "source": [
    "Доклад Скотта Майерса \"Why C++ Sails When the Vasa Sank\"\n",
    "\n",
    "- \"What you would consider the single most important feature in C++?\"\n",
    "- Destructors. It is RAII (Resource Acquisition Is Initialization)\n",
    "\n",
    "RAII:\n",
    "- Получение ресурса - инициализация\n",
    "- Освобождение ресурса - уничтожение"
   ]
  },
  {
   "cell_type": "code",
   "execution_count": null,
   "metadata": {},
   "outputs": [],
   "source": [
    "f = open('file.txt', 'w')\n",
    "print('THIS IS RAII', file=f)\n",
    "f.close()"
   ]
  },
  {
   "cell_type": "code",
   "execution_count": null,
   "metadata": {},
   "outputs": [],
   "source": [
    "def raise_exception():\n",
    "    raise Exception('Some unexpected exception here')\n",
    "\n",
    "\n",
    "def open_the_file_and_do_smth():\n",
    "    f = open('file_and_do_smth.txt', 'w')\n",
    "    try:\n",
    "        raise_exception()\n",
    "    except Exception:\n",
    "        f.close()\n",
    "        raise\n",
    "    print('WRITE IT', file=f)\n",
    "    f.close()\n",
    "\n",
    "\n",
    "open_the_file_and_do_smth()"
   ]
  },
  {
   "cell_type": "code",
   "execution_count": null,
   "metadata": {},
   "outputs": [],
   "source": [
    "def raise_exception():\n",
    "    raise Exception('Some unexpected exception here')\n",
    "\n",
    "\n",
    "def open_the_file_and_do_smth():\n",
    "    f = open('file_and_do_smth.txt', 'w')\n",
    "    try:\n",
    "        raise_exception()\n",
    "        print('WRITE IT', file=f)\n",
    "        f.close()\n",
    "    finally:\n",
    "        f.close()\n",
    "\n",
    "\n",
    "open_the_file_and_do_smth()"
   ]
  },
  {
   "cell_type": "code",
   "execution_count": null,
   "metadata": {},
   "outputs": [],
   "source": [
    "def raise_exception():\n",
    "    raise Exception('Some unexpected exception here')\n",
    "\n",
    "\n",
    "def open_the_file_and_do_smth():\n",
    "    with open('file_and_do_smth.txt', 'w') as f:\n",
    "        raise_exception()\n",
    "        print('WRITE IT', file=f)\n",
    "\n",
    "\n",
    "open_the_file_and_do_smth()"
   ]
  },
  {
   "cell_type": "code",
   "execution_count": null,
   "metadata": {},
   "outputs": [],
   "source": [
    "with open('file1.txt', 'w') as f:\n",
    "    f.write('Hello')\n",
    "# file is closed\n",
    "f.write('world')"
   ]
  },
  {
   "cell_type": "markdown",
   "metadata": {},
   "source": [
    "`contextlib.contextmanager` — удобный способ создавать контекстные менеджеры"
   ]
  },
  {
   "cell_type": "code",
   "execution_count": null,
   "metadata": {},
   "outputs": [],
   "source": [
    "from contextlib import contextmanager\n",
    "\n",
    "\n",
    "@contextmanager\n",
    "def first(*args):\n",
    "    print('before')\n",
    "    # не забывайте про исключения!\n",
    "    try:\n",
    "        yield\n",
    "    except args:\n",
    "        ...\n",
    "\n",
    "\n",
    "class First:\n",
    "    def __init__(self, *args):\n",
    "        self._exps = args\n",
    "\n",
    "    def __enter__(self):\n",
    "        ...\n",
    "\n",
    "    # * exc_type - ошибки, которые были пойманы за время работы\n",
    "    # * exc_value - значения ошибок (помним, например, текст)\n",
    "    # * exc_traceback - объект с тем, где это было (чаще всего не используется)\n",
    "    def __exit__(self, exc_type, exc_value, exc_traceback):\n",
    "        if not isinstance(exc_type, self._exps):\n",
    "            raise exc_type(exc_value)\n",
    "\n",
    "\n",
    "\n",
    "@contextmanager\n",
    "def second():\n",
    "    print('before')\n",
    "    try:\n",
    "        yield 2\n",
    "    finally:\n",
    "        print('after')\n",
    "\n",
    "\n",
    "class Second:\n",
    "    def __enter__(self):\n",
    "        print('before')\n",
    "        return 2\n",
    "\n",
    "    def __exit__(self, exc_type, exc_value, exc_traceback):\n",
    "        print('after')"
   ]
  },
  {
   "cell_type": "code",
   "execution_count": null,
   "metadata": {},
   "outputs": [],
   "source": [
    "with first() as f:\n",
    "    print(f)\n",
    "\n",
    "print()\n",
    "\n",
    "with First() as f:\n",
    "    print(f)"
   ]
  },
  {
   "cell_type": "markdown",
   "metadata": {},
   "source": [
    "Несколько контекстных менеджеров, вложенные контекстные менеджеры"
   ]
  },
  {
   "cell_type": "code",
   "execution_count": null,
   "metadata": {},
   "outputs": [],
   "source": [
    "# nested contexts\n",
    "with first() as f, second() as s:\n",
    "    print(f, s)"
   ]
  },
  {
   "cell_type": "code",
   "execution_count": null,
   "metadata": {},
   "outputs": [],
   "source": [
    "with first() as f:\n",
    "    with second() as s:\n",
    "        print(f, s)"
   ]
  },
  {
   "cell_type": "markdown",
   "metadata": {},
   "source": [
    "`as smth` - опционально"
   ]
  },
  {
   "cell_type": "code",
   "execution_count": null,
   "metadata": {},
   "outputs": [],
   "source": [
    "with first():\n",
    "    pass"
   ]
  },
  {
   "cell_type": "markdown",
   "metadata": {},
   "source": []
  }
 ],
 "metadata": {
  "kernelspec": {
   "display_name": ".venv",
   "language": "python",
   "name": "python3"
  },
  "language_info": {
   "codemirror_mode": {
    "name": "ipython",
    "version": 3
   },
   "file_extension": ".py",
   "mimetype": "text/x-python",
   "name": "python",
   "nbconvert_exporter": "python",
   "pygments_lexer": "ipython3",
   "version": "3.13.5"
  }
 },
 "nbformat": 4,
 "nbformat_minor": 2
}
